{
 "cells": [
  {
   "cell_type": "code",
   "execution_count": null,
   "metadata": {},
   "outputs": [],
   "source": [
    "import pandas as pd\n",
    "import numpy as np\n",
    "import seaborn as sns\n",
    "import matplotlib.pyplot as plt"
   ]
  },
  {
   "cell_type": "code",
   "execution_count": null,
   "metadata": {},
   "outputs": [],
   "source": [
    "data = pd.read_csv('data/housing.csv')"
   ]
  },
  {
   "cell_type": "code",
   "execution_count": null,
   "metadata": {},
   "outputs": [],
   "source": [
    "data = pd.get_dummies(data)"
   ]
  },
  {
   "cell_type": "code",
   "execution_count": null,
   "metadata": {},
   "outputs": [],
   "source": [
    "from sklearn.model_selection import train_test_split\n",
    "x_train, x_test, y_train, y_test = train_test_split(data.drop(['SalePrice'], axis=1), \n",
    "                                                    data.SalePrice, test_size=0.3, \n",
    "                                                    random_state=0)"
   ]
  },
  {
   "cell_type": "markdown",
   "metadata": {},
   "source": [
    "# Recursive Feature Elimination\n",
    "\n",
    "1. 在所有数据特征上训练模型。该模型可以是基于树的模型、套索、逻辑回归或其他可以提供特征重要性的模型。根据您选择的合适指标评估其性能。\n",
    "2. 导出特征重要性以相应地对特征进行排名。\n",
    "3. 删除最不重要的特征并在其余特征上重新训练模型。\n",
    "4. 使用之前的评估指标来计算结果模型的性能。\n",
    "5. 现在测试评估指标是否有变差。如果是这样，则意味着此功能很重要。否则，您可以将其删除。\n",
    "6. 重复步骤 3-5，直到所有特征都被移除（即评估）。"
   ]
  },
  {
   "cell_type": "code",
   "execution_count": null,
   "metadata": {},
   "outputs": [],
   "source": [
    "from sklearn.feature_selection import RFECV\n",
    "\n",
    "# use any other model you want here.\n",
    "from sklearn.ensemble import RandomForestRegressor\n",
    "\n",
    "model = RandomForestRegressor(n_estimators=411)\n",
    "\n",
    "# build the RFE with CV option.\n",
    "rfe = RFECV(model, min_features_to_select = 3, step = 1 , cv=5, scoring='accuracy')"
   ]
  },
  {
   "cell_type": "code",
   "execution_count": null,
   "metadata": {},
   "outputs": [],
   "source": [
    "# fit the RFE to our data.\n",
    "selection  = rfe.fit(x_train, y_train)\n",
    "\n",
    "# print the selected features.\n",
    "print(x_train.columns[selection.support_]) "
   ]
  },
  {
   "cell_type": "markdown",
   "metadata": {},
   "source": [
    "# Recursive Feature Addition\n",
    "1. 在所有数据上训练模型并得出特征重要性以对其进行相应的排名。该模型可以是基于树的模型、套索、逻辑回归或其他可以提供特征重要性的模型。\n",
    "2. 从该初始模型中，创建另一个具有最重要特征的模型，并使用您选择的评估指标对其进行评估。\n",
    "3. 添加另一个重要特征并使用它来重新训练模型，以及上一步中的任何特征。\n",
    "4. 使用之前的评估指标来计算结果模型的性能。\n",
    "5. 现在测试评估指标是否变好了。如果是这种情况，则意味着此功能很重要；否则，我们可以删除它。\n",
    "6. 重复步骤 3-5，直到所有特征都被添加（即评估）。"
   ]
  },
  {
   "cell_type": "code",
   "execution_count": null,
   "metadata": {},
   "outputs": [],
   "source": [
    "from sklearn.ensemble import RandomForestRegressor\n",
    "from sklearn.metrics import mean_squared_error \n",
    "\n",
    "# array to hold the feature to be keept.\n",
    "features_to_keep = [x_train.columns[0]]\n",
    "\n",
    "# set this value according to you.\n",
    "threshold = 0.002\n",
    "\n",
    "# create your prefered model and  fit it to the training data.\n",
    "model_one_feature = RandomForestRegressor(n_estimators=332)\n",
    "model_one_feature.fit(x_train[[x_train.columns[0]]], y_train)\n",
    "\n",
    "# evaluate against your metric.\n",
    "y_pred_test = model_one_feature.predict(x_test[[x_train.columns[0]]])\n",
    "mse_score_all = mean_squared_error(y_test, y_pred_test)"
   ]
  },
  {
   "cell_type": "code",
   "execution_count": null,
   "metadata": {},
   "outputs": [],
   "source": [
    "# start iterating from the feature.\n",
    "for feature in x_train.columns[1:]:\n",
    "    \n",
    "    model = RandomForestRegressor(n_estimators=332)\n",
    "    \n",
    "    # fit model with  the selected features and the feature to be evaluated\n",
    "    model.fit(x_train[features_to_keep + [feature]], y_train)\n",
    "    y_pred_test = model.predict(x_test[features_to_keep + [feature]])\n",
    "    mse_score_int = mean_squared_error(y_test, y_pred_test)\n",
    "\n",
    "    # determine the drop in the roc-auc\n",
    "    diff_auc = mse_score_int - mse_score_all\n",
    "\n",
    "    # compare the drop in roc-auc with the threshold\n",
    "    if diff_auc >= threshold:\n",
    "        \n",
    "        # if the increase in the roc is bigger than the threshold\n",
    "        # we keep the feature and re-adjust the roc-auc to the new value\n",
    "        # considering the added feature\n",
    "        mse_score_all = amse_score_int\n",
    "        features_to_keep.append(feature)"
   ]
  },
  {
   "cell_type": "code",
   "execution_count": null,
   "metadata": {},
   "outputs": [],
   "source": [
    "# print the feature to keep.\n",
    "print(features_to_keep)"
   ]
  }
 ],
 "metadata": {
  "kernelspec": {
   "display_name": "Python 3",
   "language": "python",
   "name": "python3"
  },
  "language_info": {
   "codemirror_mode": {
    "name": "ipython",
    "version": 3
   },
   "file_extension": ".py",
   "mimetype": "text/x-python",
   "name": "python",
   "nbconvert_exporter": "python",
   "pygments_lexer": "ipython3",
   "version": "3.6.9"
  }
 },
 "nbformat": 4,
 "nbformat_minor": 2
}
