{
 "cells": [
  {
   "cell_type": "markdown",
   "metadata": {},
   "source": [
    "# 过滤方法\n",
    "* 基本过滤\n",
    "* 相关过滤\n",
    "* 统计和排名过滤"
   ]
  },
  {
   "cell_type": "code",
   "execution_count": 2,
   "metadata": {},
   "outputs": [],
   "source": [
    "import pandas as pd\n",
    "import numpy as np\n",
    "import seaborn as sns\n",
    "import matplotlib.pyplot as plt"
   ]
  },
  {
   "cell_type": "code",
   "execution_count": 3,
   "metadata": {},
   "outputs": [],
   "source": [
    "data = pd.read_csv('data/housing.csv')"
   ]
  },
  {
   "cell_type": "code",
   "execution_count": 4,
   "metadata": {},
   "outputs": [
    {
     "data": {
      "text/plain": [
       "(1460, 63)"
      ]
     },
     "execution_count": 4,
     "metadata": {},
     "output_type": "execute_result"
    }
   ],
   "source": [
    "data.shape"
   ]
  },
  {
   "cell_type": "markdown",
   "metadata": {},
   "source": [
    "## 基本过滤\n",
    "### Constant Features\n",
    "去除常量特征，这些特征一般不会提供机器学习预测所需的信息。"
   ]
  },
  {
   "cell_type": "code",
   "execution_count": 5,
   "metadata": {},
   "outputs": [
    {
     "name": "stdout",
     "output_type": "stream",
     "text": [
      "x_train:62, x_test:62\n"
     ]
    }
   ],
   "source": [
    "from sklearn.model_selection import train_test_split\n",
    "x_train, x_test, y_train, y_test = train_test_split(data.drop(['SalePrice'], axis=1), \n",
    "                                                    data.SalePrice, test_size=0.3, \n",
    "                                                    random_state=0)\n",
    "len(x_train.columns)\n",
    "print(f'x_train:{len(x_train.columns)}, x_test:{len(x_test.columns)}')"
   ]
  },
  {
   "cell_type": "code",
   "execution_count": 6,
   "metadata": {},
   "outputs": [
    {
     "data": {
      "text/plain": [
       "35"
      ]
     },
     "execution_count": 6,
     "metadata": {},
     "output_type": "execute_result"
    }
   ],
   "source": [
    "numerical_x_train = x_train[x_train.select_dtypes([np.number]).columns]\n",
    "len(numerical_x_train.columns)"
   ]
  },
  {
   "cell_type": "code",
   "execution_count": 7,
   "metadata": {},
   "outputs": [],
   "source": [
    "# 移除所有那些方差不满足一些阈值的特征。默认情况下，它将会移除所有的零方差特征\n",
    "from sklearn.feature_selection import VarianceThreshold\n",
    "vs_constant = VarianceThreshold(threshold=0)"
   ]
  },
  {
   "cell_type": "code",
   "execution_count": 8,
   "metadata": {},
   "outputs": [
    {
     "data": {
      "text/plain": [
       "35"
      ]
     },
     "execution_count": 8,
     "metadata": {},
     "output_type": "execute_result"
    }
   ],
   "source": [
    "vs_constant.fit(numerical_x_train)\n",
    "len(vs_constant.get_support())"
   ]
  },
  {
   "cell_type": "code",
   "execution_count": 9,
   "metadata": {},
   "outputs": [
    {
     "data": {
      "text/plain": [
       "34"
      ]
     },
     "execution_count": 9,
     "metadata": {},
     "output_type": "execute_result"
    }
   ],
   "source": [
    "len(x_train[x_train.select_dtypes([np.number]).columns].columns[vs_constant.get_support()])"
   ]
  },
  {
   "cell_type": "code",
   "execution_count": 10,
   "metadata": {},
   "outputs": [],
   "source": [
    "constant_columns = [column for column in numerical_x_train.columns\n",
    "                    if column not in numerical_x_train.columns[vs_constant.get_support()]]"
   ]
  },
  {
   "cell_type": "code",
   "execution_count": 11,
   "metadata": {},
   "outputs": [
    {
     "data": {
      "text/plain": [
       "['PoolArea']"
      ]
     },
     "execution_count": 11,
     "metadata": {},
     "output_type": "execute_result"
    }
   ],
   "source": [
    "constant_columns"
   ]
  },
  {
   "cell_type": "code",
   "execution_count": 12,
   "metadata": {},
   "outputs": [],
   "source": [
    "constant_cat_columns = [column for column in x_train.columns \n",
    "                        if (x_train[column].dtype == \"O\" and len(x_train[column].unique())  == 1 )]"
   ]
  },
  {
   "cell_type": "code",
   "execution_count": 13,
   "metadata": {},
   "outputs": [],
   "source": [
    "all_constant_columns = constant_cat_columns + constant_columns"
   ]
  },
  {
   "cell_type": "code",
   "execution_count": 14,
   "metadata": {},
   "outputs": [
    {
     "name": "stdout",
     "output_type": "stream",
     "text": [
      "x_train:61, x_test:61\n"
     ]
    }
   ],
   "source": [
    "x_train.drop(labels=constant_columns, axis=1, inplace=True)\n",
    "x_test.drop(labels=constant_columns, axis=1, inplace=True)\n",
    "print(f'x_train:{len(x_train.columns)}, x_test:{len(x_test.columns)}')"
   ]
  },
  {
   "cell_type": "markdown",
   "metadata": {},
   "source": [
    "### Quasi Constant features\n",
    "一个值占据大部分记录的准常量特征"
   ]
  },
  {
   "cell_type": "code",
   "execution_count": 15,
   "metadata": {},
   "outputs": [
    {
     "name": "stdout",
     "output_type": "stream",
     "text": [
      "['Street', 'Utilities', 'Condition2', 'LowQualFinSF', '3SsnPorch']\n"
     ]
    }
   ],
   "source": [
    "threshold = 0.98\n",
    "\n",
    "# create empty list\n",
    "quasi_constant_feature = []\n",
    "\n",
    "# loop over all the columns\n",
    "for feature in x_train.columns:\n",
    "\n",
    "    # calculate the ratio.\n",
    "    predominant = (x_train[feature].value_counts() / np.float64(len(x_train))).sort_values(ascending=False).values[0]\n",
    "    \n",
    "    # append the column name if it is bigger than the threshold\n",
    "    if predominant >= threshold:\n",
    "        quasi_constant_feature.append(feature)\n",
    "        \n",
    "print(quasi_constant_feature)"
   ]
  },
  {
   "cell_type": "code",
   "execution_count": 16,
   "metadata": {},
   "outputs": [
    {
     "name": "stdout",
     "output_type": "stream",
     "text": [
      "x_train:56, x_test:56\n"
     ]
    }
   ],
   "source": [
    "# drop the quasi constant columns\n",
    "x_train.drop(labels=quasi_constant_feature, axis=1, inplace=True)\n",
    "x_test.drop(labels=quasi_constant_feature, axis=1, inplace=True)\n",
    "print(f'x_train:{len(x_train.columns)}, x_test:{len(x_test.columns)}')"
   ]
  },
  {
   "cell_type": "markdown",
   "metadata": {},
   "source": [
    "### Duplicated Features"
   ]
  },
  {
   "cell_type": "code",
   "execution_count": 17,
   "metadata": {},
   "outputs": [
    {
     "data": {
      "text/html": [
       "<div>\n",
       "<style scoped>\n",
       "    .dataframe tbody tr th:only-of-type {\n",
       "        vertical-align: middle;\n",
       "    }\n",
       "\n",
       "    .dataframe tbody tr th {\n",
       "        vertical-align: top;\n",
       "    }\n",
       "\n",
       "    .dataframe thead th {\n",
       "        text-align: right;\n",
       "    }\n",
       "</style>\n",
       "<table border=\"1\" class=\"dataframe\">\n",
       "  <thead>\n",
       "    <tr style=\"text-align: right;\">\n",
       "      <th></th>\n",
       "      <th>64</th>\n",
       "      <th>682</th>\n",
       "      <th>960</th>\n",
       "      <th>1384</th>\n",
       "      <th>1100</th>\n",
       "      <th>416</th>\n",
       "      <th>1034</th>\n",
       "      <th>853</th>\n",
       "      <th>472</th>\n",
       "      <th>1011</th>\n",
       "      <th>...</th>\n",
       "      <th>1094</th>\n",
       "      <th>599</th>\n",
       "      <th>277</th>\n",
       "      <th>1033</th>\n",
       "      <th>1383</th>\n",
       "      <th>763</th>\n",
       "      <th>835</th>\n",
       "      <th>1216</th>\n",
       "      <th>559</th>\n",
       "      <th>684</th>\n",
       "    </tr>\n",
       "  </thead>\n",
       "  <tbody>\n",
       "    <tr>\n",
       "      <th>Id</th>\n",
       "      <td>65</td>\n",
       "      <td>683</td>\n",
       "      <td>961</td>\n",
       "      <td>1385</td>\n",
       "      <td>1101</td>\n",
       "      <td>417</td>\n",
       "      <td>1035</td>\n",
       "      <td>854</td>\n",
       "      <td>473</td>\n",
       "      <td>1012</td>\n",
       "      <td>...</td>\n",
       "      <td>1095</td>\n",
       "      <td>600</td>\n",
       "      <td>278</td>\n",
       "      <td>1034</td>\n",
       "      <td>1384</td>\n",
       "      <td>764</td>\n",
       "      <td>836</td>\n",
       "      <td>1217</td>\n",
       "      <td>560</td>\n",
       "      <td>685</td>\n",
       "    </tr>\n",
       "    <tr>\n",
       "      <th>MSSubClass</th>\n",
       "      <td>60</td>\n",
       "      <td>120</td>\n",
       "      <td>20</td>\n",
       "      <td>50</td>\n",
       "      <td>30</td>\n",
       "      <td>60</td>\n",
       "      <td>30</td>\n",
       "      <td>80</td>\n",
       "      <td>180</td>\n",
       "      <td>90</td>\n",
       "      <td>...</td>\n",
       "      <td>20</td>\n",
       "      <td>160</td>\n",
       "      <td>20</td>\n",
       "      <td>20</td>\n",
       "      <td>30</td>\n",
       "      <td>60</td>\n",
       "      <td>20</td>\n",
       "      <td>90</td>\n",
       "      <td>120</td>\n",
       "      <td>60</td>\n",
       "    </tr>\n",
       "    <tr>\n",
       "      <th>MSZoning</th>\n",
       "      <td>RL</td>\n",
       "      <td>RL</td>\n",
       "      <td>RL</td>\n",
       "      <td>RL</td>\n",
       "      <td>RL</td>\n",
       "      <td>RL</td>\n",
       "      <td>RL</td>\n",
       "      <td>RL</td>\n",
       "      <td>RM</td>\n",
       "      <td>RL</td>\n",
       "      <td>...</td>\n",
       "      <td>RL</td>\n",
       "      <td>RM</td>\n",
       "      <td>RL</td>\n",
       "      <td>RL</td>\n",
       "      <td>RL</td>\n",
       "      <td>RL</td>\n",
       "      <td>RL</td>\n",
       "      <td>RM</td>\n",
       "      <td>RL</td>\n",
       "      <td>RL</td>\n",
       "    </tr>\n",
       "    <tr>\n",
       "      <th>LotFrontage</th>\n",
       "      <td>70.049958</td>\n",
       "      <td>70.049958</td>\n",
       "      <td>50.0</td>\n",
       "      <td>60.0</td>\n",
       "      <td>60.0</td>\n",
       "      <td>74.0</td>\n",
       "      <td>50.0</td>\n",
       "      <td>70.049958</td>\n",
       "      <td>35.0</td>\n",
       "      <td>75.0</td>\n",
       "      <td>...</td>\n",
       "      <td>74.0</td>\n",
       "      <td>24.0</td>\n",
       "      <td>140.0</td>\n",
       "      <td>70.049958</td>\n",
       "      <td>70.049958</td>\n",
       "      <td>82.0</td>\n",
       "      <td>60.0</td>\n",
       "      <td>68.0</td>\n",
       "      <td>70.049958</td>\n",
       "      <td>58.0</td>\n",
       "    </tr>\n",
       "    <tr>\n",
       "      <th>LotArea</th>\n",
       "      <td>9375</td>\n",
       "      <td>2887</td>\n",
       "      <td>7207</td>\n",
       "      <td>9060</td>\n",
       "      <td>8400</td>\n",
       "      <td>7844</td>\n",
       "      <td>6305</td>\n",
       "      <td>12095</td>\n",
       "      <td>3675</td>\n",
       "      <td>9825</td>\n",
       "      <td>...</td>\n",
       "      <td>5868</td>\n",
       "      <td>1950</td>\n",
       "      <td>19138</td>\n",
       "      <td>8125</td>\n",
       "      <td>25339</td>\n",
       "      <td>9430</td>\n",
       "      <td>9600</td>\n",
       "      <td>8930</td>\n",
       "      <td>3196</td>\n",
       "      <td>16770</td>\n",
       "    </tr>\n",
       "  </tbody>\n",
       "</table>\n",
       "<p>5 rows × 1022 columns</p>\n",
       "</div>"
      ],
      "text/plain": [
       "                  64         682   960   1384  1100  416   1034       853   \\\n",
       "Id                  65        683   961  1385  1101   417  1035        854   \n",
       "MSSubClass          60        120    20    50    30    60    30         80   \n",
       "MSZoning            RL         RL    RL    RL    RL    RL    RL         RL   \n",
       "LotFrontage  70.049958  70.049958  50.0  60.0  60.0  74.0  50.0  70.049958   \n",
       "LotArea           9375       2887  7207  9060  8400  7844  6305      12095   \n",
       "\n",
       "             472   1011  ...  1094  599    277        1033       1383  763   \\\n",
       "Id            473  1012  ...  1095   600    278       1034       1384   764   \n",
       "MSSubClass    180    90  ...    20   160     20         20         30    60   \n",
       "MSZoning       RM    RL  ...    RL    RM     RL         RL         RL    RL   \n",
       "LotFrontage  35.0  75.0  ...  74.0  24.0  140.0  70.049958  70.049958  82.0   \n",
       "LotArea      3675  9825  ...  5868  1950  19138       8125      25339  9430   \n",
       "\n",
       "             835   1216       559    684   \n",
       "Id            836  1217        560    685  \n",
       "MSSubClass     20    90        120     60  \n",
       "MSZoning       RL    RM         RL     RL  \n",
       "LotFrontage  60.0  68.0  70.049958   58.0  \n",
       "LotArea      9600  8930       3196  16770  \n",
       "\n",
       "[5 rows x 1022 columns]"
      ]
     },
     "execution_count": 17,
     "metadata": {},
     "output_type": "execute_result"
    }
   ],
   "source": [
    "train_features_T = x_train.T\n",
    "train_features_T.head()"
   ]
  },
  {
   "cell_type": "code",
   "execution_count": 18,
   "metadata": {},
   "outputs": [
    {
     "name": "stdout",
     "output_type": "stream",
     "text": [
      "0\n"
     ]
    }
   ],
   "source": [
    "print(train_features_T.duplicated().sum())"
   ]
  },
  {
   "cell_type": "code",
   "execution_count": 19,
   "metadata": {},
   "outputs": [],
   "source": [
    "duplicated_columns = train_features_T[train_features_T.duplicated()].index.values"
   ]
  },
  {
   "cell_type": "code",
   "execution_count": 20,
   "metadata": {},
   "outputs": [
    {
     "name": "stdout",
     "output_type": "stream",
     "text": [
      "x_train:56, x_test:56\n"
     ]
    }
   ],
   "source": [
    "x_train.drop(labels=duplicated_columns, axis=1, inplace=True)\n",
    "x_test.drop(labels=duplicated_columns, axis=1, inplace=True)\n",
    "print(f'x_train:{len(x_train.columns)}, x_test:{len(x_test.columns)}')"
   ]
  },
  {
   "cell_type": "markdown",
   "metadata": {},
   "source": [
    "## 相关过滤方法\n",
    "相关性被定义为衡量两个定量变量（如身高和体重）之间的线性关系。您还可以将相关性定义 为衡量一个变量对另一个变量的依赖程度。\n",
    "如果两个变量之间高度相关，它们会提供关于目标的冗余信息。本质上，我们可以只用一个冗余变量对目标做出准确的预测。\n",
    "删除相关变量有助于减少维度以及噪声。\n",
    "\n",
    "### Pearson correlation coefficient（皮尔逊相关系数）\n",
    "它用于总结两个数据变量之间线性关系的强度，可以在 1 和 -1 之间变化：\n",
    "* 1 表示正相关：一个变量的值随着另一个变量的值增加而增加。\n",
    "* -1 表示负相关： 一个变量的值随着另一个变量的值增加而减少。\n",
    "* 0 表示两个变量之间没有线性相关性。\n",
    "\n",
    "Pearson 相关系数的假设：\n",
    "\n",
    "* 两个变量都应该是正态分布的。\n",
    "* 两个变量之间是直线关系。\n",
    "* 数据在回归线周围均匀分布。\n",
    "\n",
    "### Spearman’s rank correlation coefficient（Spearman 等级相关系数）\n",
    "有时，两个变量可以以非线性关系相关，这种关系在变量的分布中可能更强或更弱。它是一种非参数检验，用于衡量两个变量与单调函数之间的关联程度，即增加或减少的关系。\n",
    "使用 Spearman 相关性测量的变量之间的强度在 +1 和 -1 之间变化，当每个变量都是另一个变量的完美单调函数时会发生这种情况。这很像 Pearson 相关性，但 Pearson 相关性评估线性关系，而 Spearman 相关性评估单调关系（无论是否线性）。\n",
    "\n",
    "Spearman 系数适用于连续和离散的序数变量。\n",
    "Spearman 等级相关性检验不对数据分布进行任何假设。\n",
    "\n",
    "### Kendall’s rank correlation coefficient (Kendall等级相关系数)\n",
    "Kendall 等级相关系数是一种非参数检验，用于衡量两个变量之间的序数关联的强度。Kendall 的相关性在 1 和 -1 之间变化。当观察值在两个变量之间具有相似等级时，它将取值 1（高），当观察值在两个变量之间具有不同等级时，取值 -1（低）。\n"
   ]
  },
  {
   "cell_type": "code",
   "execution_count": 21,
   "metadata": {},
   "outputs": [],
   "source": [
    "correlated_features = set()\n",
    "# method{‘pearson’, ‘kendall’, ‘spearman’}\n",
    "correlation_matrix = x_train.corr()"
   ]
  },
  {
   "cell_type": "code",
   "execution_count": 22,
   "metadata": {},
   "outputs": [
    {
     "data": {
      "text/plain": [
       "<AxesSubplot:>"
      ]
     },
     "execution_count": 22,
     "metadata": {},
     "output_type": "execute_result"
    },
    {
     "data": {
      "image/png": "[encoded data removed]",
      "text/plain": [
       "<Figure size 792x792 with 2 Axes>"
      ]
     },
     "metadata": {
      "needs_background": "light"
     },
     "output_type": "display_data"
    }
   ],
   "source": [
    "plt.figure(figsize=(11,11))\n",
    "sns.heatmap(correlation_matrix)"
   ]
  },
  {
   "cell_type": "code",
   "execution_count": 23,
   "metadata": {},
   "outputs": [],
   "source": [
    "for i in range(len(correlation_matrix .columns)):\n",
    "    for j in range(i):\n",
    "        if abs(correlation_matrix.iloc[i, j]) > 0.8:\n",
    "            colname = correlation_matrix.columns[i]\n",
    "            correlated_features.add(colname)"
   ]
  },
  {
   "cell_type": "code",
   "execution_count": 24,
   "metadata": {},
   "outputs": [
    {
     "data": {
      "text/plain": [
       "{'GarageArea', 'TotRmsAbvGrd'}"
      ]
     },
     "execution_count": 24,
     "metadata": {},
     "output_type": "execute_result"
    }
   ],
   "source": [
    "correlated_features"
   ]
  },
  {
   "cell_type": "code",
   "execution_count": 25,
   "metadata": {},
   "outputs": [
    {
     "name": "stdout",
     "output_type": "stream",
     "text": [
      "x_train:54, x_test:54\n"
     ]
    }
   ],
   "source": [
    "x_train.drop(labels=correlated_features, axis=1, inplace=True)\n",
    "x_test.drop(labels=correlated_features, axis=1, inplace=True)\n",
    "print(f'x_train:{len(x_train.columns)}, x_test:{len(x_test.columns)}')"
   ]
  },
  {
   "cell_type": "markdown",
   "metadata": {},
   "source": [
    "## Statistical Measures(统计和排名过滤方法)\n",
    "本质上，这些方法根据某些标准或指标对特征进行排名，然后选择排名最高的特征。"
   ]
  },
  {
   "cell_type": "code",
   "execution_count": 26,
   "metadata": {},
   "outputs": [],
   "source": [
    "from sklearn.feature_selection import mutual_info_classif, chi2\n",
    "from sklearn.feature_selection import SelectKBest, SelectPercentile"
   ]
  },
  {
   "cell_type": "markdown",
   "metadata": {},
   "source": [
    "### Mutual Information(互信息，MI)\n",
    "互信息量度两个变量的相互依赖关系。它衡量通过观察一个变量获得的关于另一个变量的信息量。在机器学习中，互信息衡量一个特征的存在/不存在有多少信息有助于对 Y 做出正确的预测。如果 X 和 Y 是独立的，则它们的 MI 为零。如果 X 是 Y 的确定性，则 MI 是 X 的熵，这是信息论中的一个概念，用于测量或量化变量内的信息量。"
   ]
  },
  {
   "cell_type": "code",
   "execution_count": 27,
   "metadata": {},
   "outputs": [
    {
     "name": "stdout",
     "output_type": "stream",
     "text": [
      "['OverallQual', 'OverallCond', 'GrLivArea', 'BsmtFullBath', 'FullBath', 'HalfBath', 'BedroomAbvGr', 'KitchenAbvGr', 'Fireplaces', 'GarageCars']\n"
     ]
    }
   ],
   "source": [
    "# select the number of features you want to retain.\n",
    "select_k = 10\n",
    "\n",
    "# get only the numerical features.\n",
    "numerical_x_train = x_train[x_train.select_dtypes([np.number]).columns]\n",
    "\n",
    "\n",
    "# create the SelectKBest with the mutual info strategy.\n",
    "selection = SelectKBest(mutual_info_classif, k=select_k).fit(numerical_x_train, y_train)\n",
    "\n",
    "features = [column for column in numerical_x_train.columns\n",
    "                    if column in numerical_x_train.columns[selection.get_support()]]\n",
    "# display the retained features.\n",
    "# features = x_train.columns[selection.get_support()]\n",
    "print(features)"
   ]
  },
  {
   "cell_type": "markdown",
   "metadata": {},
   "source": [
    "### Chi Squared Score（卡方分布）\n",
    "是另一种统计方法，通常用于测试分类变量之间的关系。详情参考：https://zh.wikipedia.org/wiki/%E5%8D%A1%E6%96%B9%E5%88%86%E4%BD%88\n",
    "\n",
    "适用于离散变量间的相关性检测"
   ]
  },
  {
   "cell_type": "code",
   "execution_count": 28,
   "metadata": {},
   "outputs": [
    {
     "name": "stdout",
     "output_type": "stream",
     "text": [
      "['Id', 'LotArea', 'BsmtFinSF1', 'BsmtFinSF2', 'BsmtUnfSF', 'TotalBsmtSF', '2ndFlrSF', 'GrLivArea', 'ScreenPorch', 'MiscVal']\n"
     ]
    }
   ],
   "source": [
    "# change this to how much features you want to keep from the top ones.\n",
    "select_k = 10\n",
    "\n",
    "# apply the chi2 score on the data and target (target should be binary).  \n",
    "selection = SelectKBest(chi2, k=select_k).fit(numerical_x_train, y_train)\n",
    "\n",
    "# display the k selected features.\n",
    "features = [column for column in numerical_x_train.columns\n",
    "                    if column in numerical_x_train.columns[selection.get_support()]]\n",
    "print(features)"
   ]
  },
  {
   "cell_type": "markdown",
   "metadata": {},
   "source": [
    "## Univariate RMSE 、 ROC-AUC\n",
    "该方法使用机器学习模型来衡量两个变量的相关性。它适用于所有变量，并且不对它们的分布做任何假设。\n",
    "流程：\n",
    "* 使用单个变量和目标构建决策树。\n",
    "* 根据模型 RMSE 或 ROC-AUC 对特征进行排名\n",
    "* 选择排名得分较高的特征。\n",
    "### Univariate RMSE\n",
    "适用于回归问题。\n"
   ]
  },
  {
   "cell_type": "code",
   "execution_count": 29,
   "metadata": {},
   "outputs": [],
   "source": [
    "from sklearn.tree import DecisionTreeClassifier, DecisionTreeRegressor\n",
    "from sklearn.metrics import roc_auc_score, mean_squared_error\n",
    "\n",
    "numerical_x_train = x_train[x_train.select_dtypes([np.number]).columns]\n",
    "numerical_x_test = x_test[x_test.select_dtypes([np.number]).columns]\n",
    "\n",
    "def univariate_rmse():\n",
    "    mse_values = []\n",
    "    for feature in numerical_x_train.columns:\n",
    "        clf = DecisionTreeRegressor()\n",
    "        clf.fit(numerical_x_train[feature].to_frame(), y_train)\n",
    "        y_scored = clf.predict(numerical_x_test[feature].to_frame())\n",
    "        mse_values.append(mean_squared_error(y_test, y_scored))\n",
    "    mse_values = pd.Series(mse_values)\n",
    "    mse_values.index = numerical_x_train.columns\n",
    "    print(mse_values.sort_values(ascending=False))\n",
    "    print(len(mse_values[mse_values > threshold]),'out of the %s featues are kept'% len(numerical_x_train.columns))\n",
    "    keep_col = mse_values[mse_values > threshold]\n",
    "    return keep_col   "
   ]
  },
  {
   "cell_type": "code",
   "execution_count": 30,
   "metadata": {},
   "outputs": [
    {
     "name": "stdout",
     "output_type": "stream",
     "text": [
      "Id               1.326803e+10\n",
      "BsmtUnfSF        1.011789e+10\n",
      "LotArea          8.379937e+09\n",
      "BsmtFinSF1       7.696158e+09\n",
      "WoodDeckSF       7.271460e+09\n",
      "OpenPorchSF      6.886315e+09\n",
      "MoSold           6.875928e+09\n",
      "YrSold           6.832078e+09\n",
      "LotFrontage      6.827291e+09\n",
      "BsmtFinSF2       6.806977e+09\n",
      "BsmtHalfBath     6.798179e+09\n",
      "EnclosedPorch    6.797342e+09\n",
      "MiscVal          6.791047e+09\n",
      "ScreenPorch      6.707080e+09\n",
      "KitchenAbvGr     6.665297e+09\n",
      "BedroomAbvGr     6.642833e+09\n",
      "1stFlrSF         6.496486e+09\n",
      "BsmtFullBath     6.486271e+09\n",
      "HalfBath         6.072529e+09\n",
      "OverallCond      6.026309e+09\n",
      "2ndFlrSF         5.816917e+09\n",
      "TotalBsmtSF      5.669278e+09\n",
      "Fireplaces       5.295673e+09\n",
      "MSSubClass       5.258424e+09\n",
      "GrLivArea        5.208607e+09\n",
      "YearRemodAdd     5.138584e+09\n",
      "YearBuilt        4.776575e+09\n",
      "FullBath         4.740520e+09\n",
      "GarageCars       3.524021e+09\n",
      "OverallQual      2.097027e+09\n",
      "dtype: float64\n",
      "30 out of the 30 featues are kept\n"
     ]
    },
    {
     "data": {
      "text/plain": [
       "Id               1.326803e+10\n",
       "MSSubClass       5.258424e+09\n",
       "LotFrontage      6.827291e+09\n",
       "LotArea          8.379937e+09\n",
       "OverallQual      2.097027e+09\n",
       "OverallCond      6.026309e+09\n",
       "YearBuilt        4.776575e+09\n",
       "YearRemodAdd     5.138584e+09\n",
       "BsmtFinSF1       7.696158e+09\n",
       "BsmtFinSF2       6.806977e+09\n",
       "BsmtUnfSF        1.011789e+10\n",
       "TotalBsmtSF      5.669278e+09\n",
       "1stFlrSF         6.496486e+09\n",
       "2ndFlrSF         5.816917e+09\n",
       "GrLivArea        5.208607e+09\n",
       "BsmtFullBath     6.486271e+09\n",
       "BsmtHalfBath     6.798179e+09\n",
       "FullBath         4.740520e+09\n",
       "HalfBath         6.072529e+09\n",
       "BedroomAbvGr     6.642833e+09\n",
       "KitchenAbvGr     6.665297e+09\n",
       "Fireplaces       5.295673e+09\n",
       "GarageCars       3.524021e+09\n",
       "WoodDeckSF       7.271460e+09\n",
       "OpenPorchSF      6.886315e+09\n",
       "EnclosedPorch    6.797342e+09\n",
       "ScreenPorch      6.707080e+09\n",
       "MiscVal          6.791047e+09\n",
       "MoSold           6.875928e+09\n",
       "YrSold           6.832078e+09\n",
       "dtype: float64"
      ]
     },
     "execution_count": 30,
     "metadata": {},
     "output_type": "execute_result"
    }
   ],
   "source": [
    "univariate_rmse()"
   ]
  },
  {
   "cell_type": "markdown",
   "metadata": {},
   "source": [
    "### Univariate ROC-AUC\n",
    "适用于分类问题"
   ]
  },
  {
   "cell_type": "code",
   "execution_count": 42,
   "metadata": {},
   "outputs": [],
   "source": [
    "data = pd.read_csv('data/titanic.csv')\n",
    "x_train, x_test, y_train, y_test = train_test_split(data.drop(['Survived'], axis=1), \n",
    "                                                    data.Survived, test_size=0.3, \n",
    "                                                    random_state=0)\n",
    "numerical_x_train = x_train[x_train.select_dtypes([np.number]).columns].fillna(0)\n",
    "numerical_x_test = x_test[x_test.select_dtypes([np.number]).columns].fillna(0)\n",
    "\n",
    "def univariate_roc_auc():\n",
    "    roc_values = []\n",
    "    for feature in numerical_x_train.columns:\n",
    "        clf = DecisionTreeClassifier()\n",
    "        clf.fit(numerical_x_train[feature].to_frame(), y_train)\n",
    "        y_scored = clf.predict_proba(numerical_x_test[feature].to_frame())\n",
    "        roc_values.append(roc_auc_score(y_test, y_scored[:, 1]))\n",
    "    roc_values = pd.Series(roc_values)\n",
    "    roc_values.index = numerical_x_train.columns\n",
    "    print(roc_values.sort_values(ascending=False))\n",
    "    print(len(roc_values[roc_values > threshold]),'out of the %s featues are kept'% len(numerical_x_train.columns))\n",
    "    keep_col = roc_values[roc_values > threshold]\n",
    "    return keep_col"
   ]
  },
  {
   "cell_type": "code",
   "execution_count": 43,
   "metadata": {},
   "outputs": [
    {
     "name": "stdout",
     "output_type": "stream",
     "text": [
      "Fare           0.753304\n",
      "Pclass         0.680476\n",
      "Parch          0.610208\n",
      "Age            0.585446\n",
      "SibSp          0.577321\n",
      "PassengerId    0.513571\n",
      "dtype: float64\n",
      "0 out of the 6 featues are kept\n"
     ]
    },
    {
     "data": {
      "text/plain": [
       "Series([], dtype: float64)"
      ]
     },
     "execution_count": 43,
     "metadata": {},
     "output_type": "execute_result"
    }
   ],
   "source": [
    "# use it for a classification task.\n",
    "univariate_roc_auc()"
   ]
  }
 ],
 "metadata": {
  "kernelspec": {
   "display_name": "Python 3.8.10 ('env': venv)",
   "language": "python",
   "name": "python3"
  },
  "language_info": {
   "codemirror_mode": {
    "name": "ipython",
    "version": 3
   },
   "file_extension": ".py",
   "mimetype": "text/x-python",
   "name": "python",
   "nbconvert_exporter": "python",
   "pygments_lexer": "ipython3",
   "version": "3.8.10"
  },
  "vscode": {
   "interpreter": {
    "hash": "876f27237b89c2af626bb42f25fc4c1c766d03fc56e9fcbdb061aba9c3bc2ab2"
   }
  }
 },
 "nbformat": 4,
 "nbformat_minor": 2
}
