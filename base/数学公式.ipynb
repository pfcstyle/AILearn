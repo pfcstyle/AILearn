{
 "cells": [
  {
   "cell_type": "markdown",
   "metadata": {},
   "source": [
    "$ y = a + b x $"
   ]
  },
  {
   "cell_type": "markdown",
   "metadata": {},
   "source": [
    "$$ \\left[ \\begin{array} {cccc}\n",
    "X_1&Y_1^2\\\\\n",
    "X_2 & Y_2^2\\\\\n",
    "\\ldots \\\\\n",
    "X_n&Y_n^2\n",
    "\\end{array} \\right] $$"
   ]
  },
  {
   "cell_type": "markdown",
   "metadata": {},
   "source": [
    "$$ loss = \\sum_i(w * x_i + b - y_i)^2   +   lr * \\frac {\\partial loss} {\\partial w} $$"
   ]
  },
  {
   "cell_type": "markdown",
   "metadata": {},
   "source": [
    "$$ x + \\left(y^2 + \\frac{x^2+z}{1+z^2}\\right)  $$"
   ]
  },
  {
   "cell_type": "markdown",
   "metadata": {},
   "source": [
    "$$ \\cos 2 \\theta = \\cos^2 \\theta - \\sin^2 \\theta\\\\\n",
    "= 2\\cos^2 \\theta - 1 $$"
   ]
  },
  {
   "cell_type": "markdown",
   "metadata": {},
   "source": [
    "$$ f(x_1,x_2,\\ldots,x_i) = x_1+x_2+\\cdots + x_i $$"
   ]
  },
  {
   "cell_type": "markdown",
   "metadata": {},
   "source": [
    "$$ \\sqrt[2]{b^2-4ac}$$"
   ]
  },
  {
   "cell_type": "markdown",
   "metadata": {},
   "source": [
    "$ J_\\alpha(x) = \\sum_{m=0}^\\infty \\frac{(-1)^m}{m! \\Gamma (m + \\alpha + 1)} {\\left({ \\frac{x}{2} }\\right)}^{2m + \\alpha} \\text {，行内公式示例} $"
   ]
  },
  {
   "cell_type": "markdown",
   "metadata": {},
   "source": [
    "$$ J_\\alpha(x) = \\sum_{m=0}^\\infty \\frac{(-1)^m}{m! \\Gamma (m + \\alpha + 1)} {\\left({ \\frac{x}{2} }\\right)}^{2m + \\alpha} \\text{，独立公式示例，使用 \\\\tag 手动编号} \\tag {0.1} $$"
   ]
  },
  {
   "cell_type": "markdown",
   "metadata": {},
   "source": [
    "$$ \\vec {a} \\cdot \\vec {b} = 0 $$"
   ]
  },
  {
   "cell_type": "markdown",
   "metadata": {},
   "source": [
    "$$ \\int_0^1 {x^2} \\, {\\rm d} x $$"
   ]
  },
  {
   "cell_type": "markdown",
   "metadata": {},
   "source": [
    "$$ \\lim_{n \\to + \\infty} \\frac {1} {n(n+1)} \\quad and \\quad \\lim_{x\\leftarrow{example}} \\frac {1} {n(n+1)} $$"
   ]
  },
  {
   "cell_type": "markdown",
   "metadata": {},
   "source": [
    "$$ \\sum_{i=1}^n \\frac {1} {i^2} \\quad and \\quad \\prod_{i=1}^n \\frac {1} {i^2} \\quad and \\quad \\bigcup_{i=1} ^ {2} R $$"
   ]
  },
  {
   "cell_type": "markdown",
   "metadata": {},
   "source": [
    "$$\n",
    "f\\left(\n",
    "   \\left[ \n",
    "     \\frac{\n",
    "       1+\\left\\{x,y\\right\\}\n",
    "     }{\n",
    "       \\left(\n",
    "          \\frac{x}{y}+\\frac{y}{x}\n",
    "       \\right)\n",
    "       \\left(u+1\\right)\n",
    "     }+a\n",
    "   \\right]^{3/2}\n",
    "\\right)\n",
    "\\tag{行标}\n",
    "$$"
   ]
  },
  {
   "cell_type": "code",
   "execution_count": null,
   "metadata": {},
   "outputs": [],
   "source": [
    "其他符号： https://www.zybuluo.com/codeep/note/163962"
   ]
  }
 ],
 "metadata": {
  "kernelspec": {
   "display_name": "Python 3.9.6 64-bit ('3.9.6')",
   "language": "python",
   "name": "python3"
  },
  "language_info": {
   "name": "python",
   "version": "3.9.6"
  },
  "orig_nbformat": 4,
  "vscode": {
   "interpreter": {
    "hash": "c3ee7fbefc4126f0b24b5e72d3ce9ef9f8cb0502663abc2549c9de78fad1f4b0"
   }
  }
 },
 "nbformat": 4,
 "nbformat_minor": 2
}
