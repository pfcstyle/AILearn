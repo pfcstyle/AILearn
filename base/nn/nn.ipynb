{
 "cells": [
  {
   "attachments": {},
   "cell_type": "markdown",
   "metadata": {},
   "source": [
    "# 神经网络\n",
    "\n",
    "![神经网络](./images/nn.png)\n",
    "\n",
    "两个hidden layer本质是特征选择。从input layer中组合不同的特征， 尝试进行分类。正因为如此神经网络不适合structure data,因为结构化数据的字段之间一般来说没有关系，所以即便强制找关系，效果也不会很好。\n",
    "\n",
    "structure data一般适合树模型（xgbgoost, lightgbm等),不容易过拟合，可以可视化。"
   ]
  }
 ],
 "metadata": {
  "language_info": {
   "name": "python"
  },
  "orig_nbformat": 4
 },
 "nbformat": 4,
 "nbformat_minor": 2
}
