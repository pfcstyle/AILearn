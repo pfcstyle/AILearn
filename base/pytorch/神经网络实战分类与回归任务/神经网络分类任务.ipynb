{
 "cells": [
  {
   "cell_type": "markdown",
   "metadata": {},
   "source": [
    "### Mnist分类任务：\n",
    "\n",
    "- 网络基本构建与训练方法，常用函数解析\n",
    "\n",
    "- torch.nn.functional模块\n",
    "\n",
    "- nn.Module模块\n"
   ]
  },
  {
   "cell_type": "markdown",
   "metadata": {},
   "source": [
    "### 读取Mnist数据集\n",
    "- 会自动进行下载"
   ]
  },
  {
   "cell_type": "code",
   "execution_count": 17,
   "metadata": {
    "collapsed": true
   },
   "outputs": [],
   "source": [
    "%matplotlib inline"
   ]
  },
  {
   "cell_type": "code",
   "execution_count": 18,
   "metadata": {
    "collapsed": true
   },
   "outputs": [],
   "source": [
    "from pathlib import Path\n",
    "\n",
    "import requests\n",
    "\n",
    "DATA_PATH = Path(\"data\")\n",
    "PATH = DATA_PATH / \"mnist\"\n",
    "\n",
    "PATH.mkdir(parents=True, exist_ok=True)\n",
    "\n",
    "URL = \"http://deeplearning.net/data/mnist/\"\n",
    "FILENAME = \"mnist.pkl.gz\"\n",
    "\n",
    "if not (PATH / FILENAME).exists():\n",
    "        content = requests.get(URL + FILENAME).content\n",
    "        (PATH / FILENAME).open(\"wb\").write(content)"
   ]
  },
  {
   "cell_type": "code",
   "execution_count": 19,
   "metadata": {
    "collapsed": true
   },
   "outputs": [],
   "source": [
    "import gzip\n",
    "import pickle\n",
    "\n",
    "with gzip.open((PATH / FILENAME).as_posix(), \"rb\") as f:\n",
    "        ((x_train, y_train), (x_valid, y_valid), _) = pickle.load(f, encoding=\"latin-1\")"
   ]
  },
  {
   "cell_type": "markdown",
   "metadata": {},
   "source": [
    "784是mnist数据集每个样本的像素点个数"
   ]
  },
  {
   "cell_type": "code",
   "execution_count": 20,
   "metadata": {},
   "outputs": [
    {
     "name": "stdout",
     "output_type": "stream",
     "text": [
      "(50000, 784)\n"
     ]
    },
    {
     "data": {
      "image/png": "[encoded data removed]",
      "text/plain": [
       "<Figure size 640x480 with 1 Axes>"
      ]
     },
     "metadata": {},
     "output_type": "display_data"
    }
   ],
   "source": [
    "import numpy as np\n",
    "from matplotlib import pyplot\n",
    "\n",
    "pyplot.imshow(x_train[0].reshape((28, 28)), cmap=\"gray\")\n",
    "print(x_train.shape)"
   ]
  },
  {
   "cell_type": "markdown",
   "metadata": {},
   "source": [
    "<img src=\"./img/4.png\" alt=\"FAO\" width=\"790\">"
   ]
  },
  {
   "cell_type": "markdown",
   "metadata": {},
   "source": [
    "<img src=\"./img/5.png\" alt=\"FAO\" width=\"790\">"
   ]
  },
  {
   "cell_type": "markdown",
   "metadata": {},
   "source": [
    "注意数据需转换成tensor才能参与后续建模训练\n"
   ]
  },
  {
   "cell_type": "code",
   "execution_count": 21,
   "metadata": {},
   "outputs": [
    {
     "name": "stdout",
     "output_type": "stream",
     "text": [
      "tensor([[0., 0., 0.,  ..., 0., 0., 0.],\n",
      "        [0., 0., 0.,  ..., 0., 0., 0.],\n",
      "        [0., 0., 0.,  ..., 0., 0., 0.],\n",
      "        ...,\n",
      "        [0., 0., 0.,  ..., 0., 0., 0.],\n",
      "        [0., 0., 0.,  ..., 0., 0., 0.],\n",
      "        [0., 0., 0.,  ..., 0., 0., 0.]]) tensor([5, 0, 4,  ..., 8, 4, 8])\n",
      "torch.Size([50000, 784])\n",
      "tensor(0) tensor(9)\n"
     ]
    }
   ],
   "source": [
    "import torch\n",
    "\n",
    "x_train, y_train, x_valid, y_valid = map(\n",
    "    torch.tensor, (x_train, y_train, x_valid, y_valid)\n",
    ")\n",
    "n, c = x_train.shape\n",
    "x_train, x_train.shape, y_train.min(), y_train.max()\n",
    "print(x_train, y_train)\n",
    "print(x_train.shape)\n",
    "print(y_train.min(), y_train.max())"
   ]
  },
  {
   "cell_type": "markdown",
   "metadata": {},
   "source": [
    "### torch.nn.functional 很多层和函数在这里都会见到\n",
    "\n",
    "torch.nn.functional中有很多功能，后续会常用的。那什么时候使用nn.Module，什么时候使用nn.functional呢？一般情况下，如果模型有可学习的参数，最好用nn.Module，其他情况nn.functional相对更简单一些"
   ]
  },
  {
   "cell_type": "code",
   "execution_count": 22,
   "metadata": {
    "collapsed": true
   },
   "outputs": [],
   "source": [
    "import torch.nn.functional as F\n",
    "\n",
    "loss_func = F.cross_entropy\n",
    "\n",
    "def model(xb):\n",
    "    return xb.mm(weights) + bias"
   ]
  },
  {
   "cell_type": "code",
   "execution_count": 39,
   "metadata": {},
   "outputs": [
    {
     "name": "stdout",
     "output_type": "stream",
     "text": [
      "tensor(2.3069, grad_fn=<NllLossBackward0>)\n"
     ]
    },
    {
     "data": {
      "text/plain": [
       "64"
      ]
     },
     "execution_count": 39,
     "metadata": {},
     "output_type": "execute_result"
    }
   ],
   "source": [
    "bs = 64\n",
    "xb = x_train[0:bs]  # a mini-batch from x\n",
    "yb = y_train[0:bs]\n",
    "weights = torch.randn([784, 10], dtype = torch.float,  requires_grad = True) \n",
    "bs = 64\n",
    "bias = torch.zeros(10, requires_grad=True)\n",
    "\n",
    "loss = loss_func(model(xb), yb)\n",
    "print(loss)\n",
    "loss.item()\n",
    "len(xb)"
   ]
  },
  {
   "cell_type": "markdown",
   "metadata": {},
   "source": [
    "### 创建一个model来更简化代码"
   ]
  },
  {
   "cell_type": "markdown",
   "metadata": {},
   "source": [
    "- 必须继承nn.Module且在其构造函数中需调用nn.Module的构造函数\n",
    "- 无需写反向传播函数，nn.Module能够利用autograd自动实现反向传播\n",
    "- Module中的可学习参数可以通过named_parameters()或者parameters()返回迭代器"
   ]
  },
  {
   "cell_type": "code",
   "execution_count": 24,
   "metadata": {
    "collapsed": true
   },
   "outputs": [],
   "source": [
    "from torch import nn\n",
    "\n",
    "\n",
    "class Mnist_NN(nn.Module):\n",
    "    def __init__(self):\n",
    "        super().__init__()\n",
    "        self.hidden1 = nn.Linear(784, 128) # 全连接\n",
    "        self.hidden2 = nn.Linear(128, 256)\n",
    "        self.out  = nn.Linear(256, 10)\n",
    "\n",
    "        self.dropout = nn.Dropout(0.5)\n",
    "\n",
    "    def forward(self, x):\n",
    "        x = F.relu(self.hidden1(x))\n",
    "        x = self.dropout(x)\n",
    "        x = F.relu(self.hidden2(x))\n",
    "        x = self.dropout(x)\n",
    "        x = self.out(x)\n",
    "        return x\n",
    "        "
   ]
  },
  {
   "cell_type": "code",
   "execution_count": 25,
   "metadata": {},
   "outputs": [
    {
     "name": "stdout",
     "output_type": "stream",
     "text": [
      "Mnist_NN(\n",
      "  (hidden1): Linear(in_features=784, out_features=128, bias=True)\n",
      "  (hidden2): Linear(in_features=128, out_features=256, bias=True)\n",
      "  (out): Linear(in_features=256, out_features=10, bias=True)\n",
      "  (dropout): Dropout(p=0.5, inplace=False)\n",
      ")\n"
     ]
    }
   ],
   "source": [
    "net = Mnist_NN()\n",
    "print(net)\n"
   ]
  },
  {
   "cell_type": "markdown",
   "metadata": {},
   "source": [
    "可以打印我们定义好名字里的权重和偏置项"
   ]
  },
  {
   "cell_type": "code",
   "execution_count": 26,
   "metadata": {},
   "outputs": [
    {
     "name": "stdout",
     "output_type": "stream",
     "text": [
      "hidden1.weight Parameter containing:\n",
      "tensor([[-0.0269, -0.0072,  0.0072,  ..., -0.0298, -0.0283,  0.0178],\n",
      "        [ 0.0127, -0.0267, -0.0127,  ...,  0.0166,  0.0328,  0.0189],\n",
      "        [-0.0320, -0.0161, -0.0088,  ..., -0.0171,  0.0244,  0.0298],\n",
      "        ...,\n",
      "        [-0.0303, -0.0282,  0.0140,  ..., -0.0023, -0.0353,  0.0348],\n",
      "        [ 0.0118, -0.0228,  0.0247,  ...,  0.0241,  0.0109, -0.0048],\n",
      "        [-0.0057, -0.0155,  0.0307,  ..., -0.0350, -0.0062,  0.0067]],\n",
      "       requires_grad=True) torch.Size([128, 784])\n",
      "hidden1.bias Parameter containing:\n",
      "tensor([ 0.0289,  0.0242,  0.0357,  0.0010,  0.0201,  0.0308, -0.0287, -0.0219,\n",
      "        -0.0351, -0.0316, -0.0314, -0.0053, -0.0152,  0.0135, -0.0223,  0.0181,\n",
      "         0.0252,  0.0050,  0.0091, -0.0300, -0.0326,  0.0126,  0.0126,  0.0175,\n",
      "        -0.0111, -0.0032, -0.0118,  0.0021, -0.0333,  0.0148,  0.0205, -0.0214,\n",
      "        -0.0067,  0.0247, -0.0207,  0.0305,  0.0298,  0.0237, -0.0268,  0.0234,\n",
      "         0.0105, -0.0303,  0.0004,  0.0115, -0.0173,  0.0027, -0.0019,  0.0269,\n",
      "        -0.0321,  0.0344, -0.0206, -0.0031, -0.0040,  0.0097,  0.0019,  0.0115,\n",
      "        -0.0112, -0.0329, -0.0177, -0.0122,  0.0347,  0.0027,  0.0288, -0.0323,\n",
      "         0.0186,  0.0166, -0.0300,  0.0263, -0.0056, -0.0180,  0.0031, -0.0039,\n",
      "         0.0245, -0.0048, -0.0221, -0.0204,  0.0285, -0.0296,  0.0283, -0.0063,\n",
      "         0.0197,  0.0146, -0.0114, -0.0093, -0.0141,  0.0176, -0.0009,  0.0181,\n",
      "         0.0122,  0.0241, -0.0055,  0.0034, -0.0128,  0.0328,  0.0330, -0.0194,\n",
      "        -0.0084, -0.0015,  0.0126, -0.0113, -0.0303,  0.0207, -0.0295, -0.0327,\n",
      "         0.0339, -0.0173, -0.0218,  0.0335,  0.0058,  0.0108,  0.0038, -0.0014,\n",
      "         0.0223, -0.0263,  0.0339,  0.0232,  0.0098, -0.0162,  0.0330,  0.0220,\n",
      "         0.0286, -0.0029,  0.0207, -0.0268,  0.0213, -0.0151,  0.0005,  0.0088],\n",
      "       requires_grad=True) torch.Size([128])\n",
      "hidden2.weight Parameter containing:\n",
      "tensor([[-0.0135,  0.0861, -0.0168,  ..., -0.0168, -0.0597, -0.0694],\n",
      "        [ 0.0165,  0.0367, -0.0695,  ..., -0.0256, -0.0263, -0.0104],\n",
      "        [ 0.0013,  0.0107, -0.0698,  ...,  0.0185, -0.0880, -0.0425],\n",
      "        ...,\n",
      "        [-0.0286, -0.0325,  0.0576,  ...,  0.0616, -0.0160,  0.0610],\n",
      "        [-0.0276,  0.0523,  0.0725,  ...,  0.0099, -0.0007,  0.0035],\n",
      "        [-0.0312,  0.0529,  0.0039,  ..., -0.0638,  0.0099, -0.0201]],\n",
      "       requires_grad=True) torch.Size([256, 128])\n",
      "hidden2.bias Parameter containing:\n",
      "tensor([ 0.0588, -0.0842,  0.0828, -0.0592,  0.0011,  0.0345, -0.0214,  0.0117,\n",
      "         0.0305,  0.0596, -0.0054,  0.0153, -0.0262, -0.0112, -0.0599, -0.0828,\n",
      "        -0.0262,  0.0298, -0.0221,  0.0637,  0.0662, -0.0296,  0.0579, -0.0074,\n",
      "         0.0018,  0.0810,  0.0492,  0.0463, -0.0088, -0.0241,  0.0185,  0.0136,\n",
      "         0.0475,  0.0163, -0.0079, -0.0613,  0.0436,  0.0503,  0.0404, -0.0634,\n",
      "        -0.0835, -0.0794, -0.0801,  0.0550, -0.0671,  0.0728, -0.0603, -0.0794,\n",
      "         0.0209,  0.0774,  0.0336,  0.0744,  0.0395, -0.0331,  0.0845,  0.0837,\n",
      "         0.0825, -0.0284, -0.0119, -0.0661, -0.0486, -0.0352,  0.0344, -0.0465,\n",
      "        -0.0824, -0.0837, -0.0709, -0.0145, -0.0780, -0.0558,  0.0177, -0.0770,\n",
      "        -0.0599,  0.0470, -0.0386,  0.0528,  0.0880,  0.0635,  0.0869, -0.0785,\n",
      "        -0.0596,  0.0420,  0.0051, -0.0502,  0.0101,  0.0376, -0.0473,  0.0593,\n",
      "         0.0549,  0.0784, -0.0690,  0.0723,  0.0306, -0.0149,  0.0867, -0.0677,\n",
      "        -0.0251,  0.0527, -0.0230,  0.0271, -0.0015, -0.0617,  0.0872, -0.0819,\n",
      "        -0.0183, -0.0041, -0.0849,  0.0233, -0.0672, -0.0826,  0.0723,  0.0835,\n",
      "        -0.0363,  0.0539,  0.0248, -0.0172,  0.0243,  0.0798, -0.0551,  0.0479,\n",
      "        -0.0686,  0.0675,  0.0423,  0.0036,  0.0123,  0.0207, -0.0557, -0.0685,\n",
      "         0.0655, -0.0834, -0.0046, -0.0519,  0.0098,  0.0615, -0.0384,  0.0136,\n",
      "        -0.0752,  0.0341,  0.0849, -0.0050,  0.0405,  0.0702,  0.0380,  0.0483,\n",
      "         0.0812, -0.0708, -0.0550,  0.0448,  0.0169,  0.0625,  0.0026, -0.0128,\n",
      "         0.0425, -0.0630, -0.0553,  0.0853, -0.0114,  0.0142,  0.0104, -0.0419,\n",
      "         0.0784,  0.0258,  0.0072, -0.0026,  0.0099, -0.0180,  0.0565, -0.0030,\n",
      "        -0.0732,  0.0053,  0.0647, -0.0829,  0.0576, -0.0537,  0.0607, -0.0791,\n",
      "         0.0579, -0.0605, -0.0233,  0.0418,  0.0154,  0.0824,  0.0380,  0.0806,\n",
      "        -0.0683, -0.0460,  0.0455,  0.0010,  0.0221, -0.0265,  0.0794,  0.0229,\n",
      "        -0.0414, -0.0670,  0.0063, -0.0096,  0.0313,  0.0193, -0.0315,  0.0251,\n",
      "        -0.0175, -0.0072,  0.0444,  0.0155,  0.0467,  0.0762, -0.0848, -0.0837,\n",
      "         0.0615,  0.0436, -0.0702, -0.0762,  0.0781, -0.0269,  0.0681, -0.0262,\n",
      "         0.0373,  0.0860, -0.0375, -0.0795, -0.0250, -0.0807, -0.0539, -0.0782,\n",
      "         0.0386, -0.0004, -0.0866, -0.0568,  0.0227,  0.0081,  0.0292, -0.0340,\n",
      "        -0.0175,  0.0458,  0.0784, -0.0376, -0.0387, -0.0089, -0.0520,  0.0764,\n",
      "        -0.0784, -0.0772,  0.0528, -0.0645, -0.0085, -0.0481, -0.0080, -0.0008,\n",
      "         0.0281, -0.0709,  0.0450, -0.0804, -0.0872,  0.0060, -0.0050, -0.0238],\n",
      "       requires_grad=True) torch.Size([256])\n",
      "out.weight Parameter containing:\n",
      "tensor([[-0.0594, -0.0226,  0.0243,  ..., -0.0282, -0.0114,  0.0422],\n",
      "        [ 0.0223, -0.0423,  0.0132,  ...,  0.0605,  0.0205,  0.0432],\n",
      "        [ 0.0291, -0.0417,  0.0614,  ..., -0.0087, -0.0514,  0.0512],\n",
      "        ...,\n",
      "        [-0.0544,  0.0297, -0.0080,  ..., -0.0507,  0.0320,  0.0617],\n",
      "        [-0.0119,  0.0485, -0.0573,  ..., -0.0072, -0.0064, -0.0110],\n",
      "        [-0.0246,  0.0024,  0.0497,  ..., -0.0097, -0.0625, -0.0254]],\n",
      "       requires_grad=True) torch.Size([10, 256])\n",
      "out.bias Parameter containing:\n",
      "tensor([ 0.0302, -0.0397, -0.0088,  0.0355, -0.0032,  0.0392,  0.0225, -0.0023,\n",
      "        -0.0034,  0.0320], requires_grad=True) torch.Size([10])\n"
     ]
    }
   ],
   "source": [
    "# w会自动初始化\n",
    "for name, parameter in net.named_parameters():\n",
    "    print(name, parameter,parameter.size())"
   ]
  },
  {
   "cell_type": "markdown",
   "metadata": {},
   "source": [
    "### 使用TensorDataset和DataLoader来简化"
   ]
  },
  {
   "cell_type": "code",
   "execution_count": 27,
   "metadata": {
    "collapsed": true
   },
   "outputs": [],
   "source": [
    "from torch.utils.data import DataLoader, TensorDataset\n",
    "\n",
    "train_ds = TensorDataset(x_train, y_train)\n",
    "# shuffle 每一个epoch打乱训练数据的顺序\n",
    "train_dl = DataLoader(train_ds, batch_size=bs, shuffle=True)\n",
    "\n",
    "valid_ds = TensorDataset(x_valid, y_valid)\n",
    "valid_dl = DataLoader(valid_ds, batch_size=bs)"
   ]
  },
  {
   "cell_type": "code",
   "execution_count": 28,
   "metadata": {
    "collapsed": true
   },
   "outputs": [],
   "source": [
    "def get_data(train_ds, valid_ds, bs):\n",
    "    return (\n",
    "        DataLoader(train_ds, batch_size=bs, shuffle=True),\n",
    "        DataLoader(valid_ds, batch_size=bs),\n",
    "    )"
   ]
  },
  {
   "cell_type": "markdown",
   "metadata": {},
   "source": [
    "- 一般在训练模型时加上model.train()，这样会正常使用Batch Normalization和 Dropout\n",
    "- 测试的时候一般选择model.eval()，这样就不会使用Batch Normalization和 Dropout"
   ]
  },
  {
   "cell_type": "code",
   "execution_count": 29,
   "metadata": {},
   "outputs": [],
   "source": [
    "def loss_batch(model, loss_func, xb, yb, opt=None):\n",
    "    # model(input) == model.forward(input)\n",
    "    loss = loss_func(model(xb), yb)\n",
    "\n",
    "    if opt is not None:\n",
    "        loss.backward()\n",
    "        opt.step()\n",
    "        opt.zero_grad() # torch会自动做梯度的累加，每次迭代前需要手动清0\n",
    "\n",
    "    return loss.item(), len(xb)"
   ]
  },
  {
   "cell_type": "code",
   "execution_count": 30,
   "metadata": {
    "collapsed": true
   },
   "outputs": [],
   "source": [
    "import numpy as np\n",
    "\n",
    "\n",
    "def fit(steps, model, loss_func, opt, train_dl, valid_dl):\n",
    "    for step in range(steps): # epoch\n",
    "        model.train()\n",
    "        for xb, yb in train_dl:\n",
    "            loss_batch(model, loss_func, xb, yb, opt)\n",
    "\n",
    "        model.eval()\n",
    "        with torch.no_grad():# 验证模式不更新\n",
    "            losses, nums = zip(\n",
    "                *[loss_batch(model, loss_func, xb, yb) for xb, yb in valid_dl]\n",
    "            )\n",
    "        val_loss = np.sum(np.multiply(losses, nums)) / np.sum(nums)\n",
    "        print('当前step:'+str(step), '验证集损失：'+str(val_loss))"
   ]
  },
  {
   "cell_type": "code",
   "execution_count": 31,
   "metadata": {
    "collapsed": true
   },
   "outputs": [],
   "source": [
    "from torch import optim\n",
    "\n",
    "\n",
    "def get_model():\n",
    "    model = Mnist_NN()\n",
    "    return model, optim.SGD(model.parameters(), lr=0.001)"
   ]
  },
  {
   "cell_type": "markdown",
   "metadata": {},
   "source": [
    "### 三行搞定！"
   ]
  },
  {
   "cell_type": "code",
   "execution_count": 37,
   "metadata": {},
   "outputs": [
    {
     "name": "stdout",
     "output_type": "stream",
     "text": [
      "torch.Size([64, 10])\n"
     ]
    },
    {
     "data": {
      "text/plain": [
       "torch.Size([64])"
      ]
     },
     "execution_count": 37,
     "metadata": {},
     "output_type": "execute_result"
    }
   ],
   "source": [
    "train_dl, valid_dl = get_data(train_ds, valid_ds, bs)\n",
    "model, opt = get_model()\n",
    "sample = iter(train_dl)\n",
    "xb, yb = next(sample)\n",
    "\n",
    "print(model(xb).shape)\n",
    "yb.shape"
   ]
  },
  {
   "cell_type": "code",
   "execution_count": 40,
   "metadata": {
    "collapsed": true
   },
   "outputs": [
    {
     "name": "stdout",
     "output_type": "stream",
     "text": [
      "当前step:0 验证集损失：2.2804833972930907\n",
      "当前step:1 验证集损失：2.2525653312683107\n",
      "当前step:2 验证集损失：2.21288744468689\n",
      "当前step:3 验证集损失：2.1551383895874023\n",
      "当前step:4 验证集损失：2.073294314956665\n",
      "当前step:5 验证集损失：1.9595987125396728\n",
      "当前step:6 验证集损失：1.8073242906570435\n",
      "当前step:7 验证集损失：1.6179550661087037\n",
      "当前step:8 验证集损失：1.4124386936187745\n",
      "当前step:9 验证集损失：1.2263709316253661\n",
      "当前step:10 验证集损失：1.0761143341064454\n",
      "当前step:11 验证集损失：0.9598291326522828\n",
      "当前step:12 验证集损失：0.8694684852600097\n",
      "当前step:13 验证集损失：0.7978080226898193\n",
      "当前step:14 验证集损失：0.740206939983368\n",
      "当前step:15 验证集损失：0.6916911737442016\n",
      "当前step:16 验证集损失：0.6521799218177795\n",
      "当前step:17 验证集损失：0.6189346996307373\n",
      "当前step:18 验证集损失：0.590044945716858\n",
      "当前step:19 验证集损失：0.5658472233772278\n",
      "当前step:20 验证集损失：0.5443763592243195\n",
      "当前step:21 验证集损失：0.5247211284637451\n",
      "当前step:22 验证集损失：0.5084267935276031\n",
      "当前step:23 验证集损失：0.4925997139453888\n",
      "当前step:24 验证集损失：0.4785043688774109\n"
     ]
    }
   ],
   "source": [
    "fit(25, model, loss_func, opt, train_dl, valid_dl)"
   ]
  },
  {
   "cell_type": "code",
   "execution_count": 41,
   "metadata": {},
   "outputs": [
    {
     "name": "stdout",
     "output_type": "stream",
     "text": [
      "Accuracy of the network: 87 %\n"
     ]
    }
   ],
   "source": [
    "correct = 0\n",
    "total = 0\n",
    "for xb, yb in valid_dl:\n",
    "    outputs = model(xb)\n",
    "    _, predicted = torch.max(outputs.data, 1) # 最大值和索引\n",
    "    total += yb.size(0)\n",
    "    correct += (predicted == yb).sum().item()\n",
    "\n",
    "print('Accuracy of the network: %d %%' % (100 * correct / total))"
   ]
  },
  {
   "cell_type": "code",
   "execution_count": null,
   "metadata": {},
   "outputs": [],
   "source": []
  }
 ],
 "metadata": {
  "kernelspec": {
   "display_name": "Python 3.9.6 ('new_env': venv)",
   "language": "python",
   "name": "python3"
  },
  "language_info": {
   "codemirror_mode": {
    "name": "ipython",
    "version": 3
   },
   "file_extension": ".py",
   "mimetype": "text/x-python",
   "name": "python",
   "nbconvert_exporter": "python",
   "pygments_lexer": "ipython3",
   "version": "3.9.6"
  },
  "vscode": {
   "interpreter": {
    "hash": "0d58ff1fa528449bec86ac3b87e5b9edec9a0f46f3f9c706338d5512923abfa3"
   }
  }
 },
 "nbformat": 4,
 "nbformat_minor": 1
}
