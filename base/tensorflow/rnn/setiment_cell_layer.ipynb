{
 "cells": [
  {
   "cell_type": "code",
   "execution_count": 1,
   "metadata": {},
   "outputs": [],
   "source": [
    "import tensorflow as tf\n",
    "from tensorflow import keras\n",
    "from keras import layers\n",
    "import  numpy as np\n",
    "\n",
    "tf.random.set_seed(22)\n",
    "np.random.seed(22)"
   ]
  },
  {
   "cell_type": "code",
   "execution_count": 2,
   "metadata": {},
   "outputs": [
    {
     "name": "stdout",
     "output_type": "stream",
     "text": [
      "x_train shape: (25000, 80) tf.Tensor(1, shape=(), dtype=int64) tf.Tensor(0, shape=(), dtype=int64)\n",
      "x_test shape: (25000, 80)\n"
     ]
    }
   ],
   "source": [
    "batchsz = 128\n",
    "\n",
    "# the most frequest words\n",
    "# 设定10000个常用单词， 标记（0~9999），其余单词都是生僻词，这些生僻词都标记为10000\n",
    "total_words = 10000\n",
    "# 设定句子长度80， 不足80补0，超过80截断\n",
    "max_review_len = 80\n",
    "# 一个单词使用100维表示，不是one-hot-encoding\n",
    "embedding_len = 100\n",
    "# \n",
    "(x_train, y_train), (x_test, y_test) = keras.datasets.imdb.load_data(num_words=total_words)\n",
    "# x_train:[b, 80]\n",
    "# x_test: [b, 80]\n",
    "# 对数据padding,截取或补足\n",
    "x_train = keras.preprocessing.sequence.pad_sequences(x_train, maxlen=max_review_len)\n",
    "x_test = keras.preprocessing.sequence.pad_sequences(x_test, maxlen=max_review_len)\n",
    "\n",
    "db_train = tf.data.Dataset.from_tensor_slices((x_train, y_train))\n",
    "# 如果不是batchsz整数倍，把最后一个batch删掉：drop_remainder\n",
    "db_train = db_train.shuffle(1000).batch(batchsz, drop_remainder=True)\n",
    "db_test = tf.data.Dataset.from_tensor_slices((x_test, y_test))\n",
    "db_test = db_test.batch(batchsz, drop_remainder=True)\n",
    "print('x_train shape:', x_train.shape, tf.reduce_max(y_train), tf.reduce_min(y_train))\n",
    "print('x_test shape:', x_test.shape)"
   ]
  },
  {
   "cell_type": "markdown",
   "metadata": {},
   "source": [
    "### SimpleRNNCell"
   ]
  },
  {
   "cell_type": "code",
   "execution_count": 3,
   "metadata": {},
   "outputs": [],
   "source": [
    "class MyRNN(keras.Model):\n",
    "\n",
    "    def __init__(self, units):\n",
    "        super(MyRNN, self).__init__()\n",
    "\n",
    "        # [b, 64]\n",
    "        self.state0 = [tf.zeros([batchsz, units])]\n",
    "        self.state1 = [tf.zeros([batchsz, units])]\n",
    "\n",
    "        # transform text to embedding representation\n",
    "        # 进行整句编码\n",
    "        # [b, 80] => [b, 80, 100]\n",
    "        self.embedding = layers.Embedding(total_words, embedding_len,\n",
    "                                          input_length=max_review_len)\n",
    "\n",
    "        # [b, 80, 100] , h_dim: 64\n",
    "        # RNN: cell1 ,cell2, cell3\n",
    "        # SimpleRNN\n",
    "        self.rnn_cell0 = layers.SimpleRNNCell(units, dropout=0.5)\n",
    "        self.rnn_cell1 = layers.SimpleRNNCell(units, dropout=0.5)\n",
    "\n",
    "\n",
    "        # fc, [b, 80, 100] => [b, 64] => [b, 1]\n",
    "        self.outlayer = layers.Dense(1)\n",
    "    # 在调用fit和evaluate时， trainging参数会变化\n",
    "    def call(self, inputs, training=None):\n",
    "        \"\"\"\n",
    "        net(x) net(x, training=True) :train mode\n",
    "        net(x, training=False): test\n",
    "        :param inputs: [b, 80]\n",
    "        :param training:\n",
    "        :return:\n",
    "        \"\"\"\n",
    "        # [b, 80]\n",
    "        x = inputs\n",
    "        # embedding: [b, 80] => [b, 80, 100]\n",
    "        x = self.embedding(x)\n",
    "        # rnn cell compute\n",
    "        # [b, 80, 100] => [b, 64]\n",
    "        state0 = self.state0\n",
    "        state1 = self.state1\n",
    "        for word in tf.unstack(x, axis=1): # word: [b, 100]\n",
    "            # h1 = x*wxh+h0*whh\n",
    "            # out0: [b, 64]\n",
    "            out0, state0 = self.rnn_cell0(word, state0, training)\n",
    "            # out1: [b, 64]\n",
    "            out1, state1 = self.rnn_cell1(out0, state1, training)\n",
    "\n",
    "        # out: [b, 64] => [b, 1]\n",
    "        x = self.outlayer(out1)\n",
    "        # p(y is pos|x)\n",
    "        prob = tf.sigmoid(x)\n",
    "\n",
    "        return prob"
   ]
  },
  {
   "cell_type": "code",
   "execution_count": 4,
   "metadata": {},
   "outputs": [
    {
     "name": "stdout",
     "output_type": "stream",
     "text": [
      "Epoch 1/4\n",
      "195/195 [==============================] - 18s 59ms/step - loss: 0.5832 - accuracy: 0.6727 - val_loss: 0.4354 - val_accuracy: 0.8026\n",
      "Epoch 2/4\n",
      "195/195 [==============================] - 10s 50ms/step - loss: 0.3783 - accuracy: 0.8389 - val_loss: 0.4100 - val_accuracy: 0.8249\n",
      "Epoch 3/4\n",
      "195/195 [==============================] - 10s 52ms/step - loss: 0.3045 - accuracy: 0.8776 - val_loss: 0.4060 - val_accuracy: 0.8315\n",
      "Epoch 4/4\n",
      "195/195 [==============================] - 10s 53ms/step - loss: 0.2469 - accuracy: 0.9032 - val_loss: 0.4722 - val_accuracy: 0.8224\n",
      "195/195 [==============================] - 3s 14ms/step - loss: 0.4722 - accuracy: 0.8224\n"
     ]
    }
   ],
   "source": [
    "units = 64\n",
    "epochs = 4\n",
    "# 由于AMD DirectML的原因，不支持GPU\n",
    "with tf.device(\"/cpu:0\"):\n",
    "    model = MyRNN(units)\n",
    "    model.compile(optimizer = keras.optimizers.Adam(0.001),\n",
    "                    loss = tf.losses.BinaryCrossentropy(),\n",
    "                    metrics=['accuracy'])\n",
    "    model.fit(db_train, epochs=epochs, validation_data=db_test)\n",
    "\n",
    "    model.evaluate(db_test)"
   ]
  },
  {
   "cell_type": "markdown",
   "metadata": {},
   "source": [
    "### SimpleRNN layer\n",
    "\n"
   ]
  },
  {
   "cell_type": "code",
   "execution_count": 3,
   "metadata": {},
   "outputs": [],
   "source": [
    "class MyRNN(keras.Model):\n",
    "\n",
    "    def __init__(self, units):\n",
    "        super(MyRNN, self).__init__()\n",
    "\n",
    "\n",
    "        # transform text to embedding representation\n",
    "        # [b, 80] => [b, 80, 100]\n",
    "        self.embedding = layers.Embedding(total_words, embedding_len,\n",
    "                                          input_length=max_review_len)\n",
    "\n",
    "        # [b, 80, 100] , h_dim: 64\n",
    "        self.rnn = keras.Sequential([\n",
    "            layers.SimpleRNN(units, dropout=0.5, return_sequences=True, unroll=True),\n",
    "            layers.SimpleRNN(units, dropout=0.5, unroll=True)\n",
    "        ])\n",
    "\n",
    "\n",
    "        # fc, [b, 80, 100] => [b, 64] => [b, 1]\n",
    "        self.outlayer = layers.Dense(1)\n",
    "\n",
    "    def call(self, inputs, training=None):\n",
    "        \"\"\"\n",
    "        net(x) net(x, training=True) :train mode\n",
    "        net(x, training=False): test\n",
    "        :param inputs: [b, 80]\n",
    "        :param training:\n",
    "        :return:\n",
    "        \"\"\"\n",
    "        # [b, 80]\n",
    "        x = inputs\n",
    "        # embedding: [b, 80] => [b, 80, 100]\n",
    "        x = self.embedding(x)\n",
    "        # rnn cell compute\n",
    "        # x: [b, 80, 100] => [b, 64]\n",
    "        x = self.rnn(x)\n",
    "\n",
    "        # out: [b, 64] => [b, 1]\n",
    "        x = self.outlayer(x)\n",
    "        # p(y is pos|x)\n",
    "        prob = tf.sigmoid(x)\n",
    "\n",
    "        return prob"
   ]
  },
  {
   "cell_type": "code",
   "execution_count": 4,
   "metadata": {},
   "outputs": [
    {
     "name": "stdout",
     "output_type": "stream",
     "text": [
      "Epoch 1/4\n",
      "195/195 [==============================] - 21s 69ms/step - loss: 0.5954 - accuracy: 0.6591 - val_loss: 0.4110 - val_accuracy: 0.8173\n",
      "Epoch 2/4\n",
      "195/195 [==============================] - 12s 59ms/step - loss: 0.3896 - accuracy: 0.8336 - val_loss: 0.3874 - val_accuracy: 0.8314\n",
      "Epoch 3/4\n",
      "195/195 [==============================] - 12s 60ms/step - loss: 0.3193 - accuracy: 0.8690 - val_loss: 0.3976 - val_accuracy: 0.8289\n",
      "Epoch 4/4\n",
      "195/195 [==============================] - 12s 61ms/step - loss: 0.2708 - accuracy: 0.8938 - val_loss: 0.4101 - val_accuracy: 0.8309\n",
      "195/195 [==============================] - 3s 17ms/step - loss: 0.4101 - accuracy: 0.8309\n"
     ]
    }
   ],
   "source": [
    "units = 64\n",
    "epochs = 4\n",
    "\n",
    "with tf.device(\"/cpu:0\"):\n",
    "    model = MyRNN(units)\n",
    "    model.compile(optimizer = keras.optimizers.Adam(0.001),\n",
    "                    loss = tf.losses.BinaryCrossentropy(),\n",
    "                    metrics=['accuracy'])\n",
    "    model.fit(db_train, epochs=epochs, validation_data=db_test)\n",
    "\n",
    "    model.evaluate(db_test)"
   ]
  }
 ],
 "metadata": {
  "kernelspec": {
   "display_name": "Python 3.9.6 ('new_env': venv)",
   "language": "python",
   "name": "python3"
  },
  "language_info": {
   "codemirror_mode": {
    "name": "ipython",
    "version": 3
   },
   "file_extension": ".py",
   "mimetype": "text/x-python",
   "name": "python",
   "nbconvert_exporter": "python",
   "pygments_lexer": "ipython3",
   "version": "3.9.6"
  },
  "orig_nbformat": 4,
  "vscode": {
   "interpreter": {
    "hash": "0d58ff1fa528449bec86ac3b87e5b9edec9a0f46f3f9c706338d5512923abfa3"
   }
  }
 },
 "nbformat": 4,
 "nbformat_minor": 2
}
