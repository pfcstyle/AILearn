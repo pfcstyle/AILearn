{
 "cells": [
  {
   "cell_type": "markdown",
   "metadata": {},
   "source": [
    "### Word Embedding\n",
    "\n",
    "常见文本编码方式：\n",
    "* One-hot, 太过稀疏，无法训练，无法表示相似性，维度过高，无法表示重要性，简单，好理解\n",
    "* TF-idf, 太过稀疏，无法训练，无法表示相似性，维度过高，可表示重要性\n",
    "* Word2Vec，解决上述问题\n",
    "* Glove， 解决上述问题\n",
    "\n",
    "![word_embedding](../images/word_embedding.png)"
   ]
  },
  {
   "cell_type": "code",
   "execution_count": 1,
   "metadata": {},
   "outputs": [],
   "source": [
    "import tensorflow as tf\n",
    "from tensorflow import keras\n",
    "from keras import layers\n"
   ]
  },
  {
   "cell_type": "code",
   "execution_count": 3,
   "metadata": {},
   "outputs": [
    {
     "data": {
      "text/plain": [
       "[<tf.Variable 'embedding_1/embeddings:0' shape=(10, 4) dtype=float32, numpy=\n",
       " array([[-0.02322785,  0.03442693,  0.018364  ,  0.02438594],\n",
       "        [ 0.03481719,  0.02006323,  0.02925893,  0.02231682],\n",
       "        [-0.01075799,  0.03193636,  0.00265479,  0.04819347],\n",
       "        [ 0.01885322, -0.04003878, -0.02069527,  0.01364918],\n",
       "        [-0.00221647, -0.00582576, -0.03567828, -0.01096325],\n",
       "        [-0.01511582, -0.00879706,  0.01024588,  0.0084147 ],\n",
       "        [ 0.015506  , -0.02231636,  0.04918389,  0.039024  ],\n",
       "        [-0.02696562, -0.04247734, -0.01635342,  0.0191821 ],\n",
       "        [ 0.03769949, -0.01766153,  0.01772493,  0.03914749],\n",
       "        [ 0.02619792,  0.0477257 ,  0.00074074, -0.03434335]],\n",
       "       dtype=float32)>]"
      ]
     },
     "execution_count": 3,
     "metadata": {},
     "output_type": "execute_result"
    }
   ],
   "source": [
    "x = tf.range(5)\n",
    "x = tf.random.shuffle(x)\n",
    "net = layers.Embedding(10, 4)\n",
    "net(x)\n",
    "net.trainable_variables"
   ]
  }
 ],
 "metadata": {
  "kernelspec": {
   "display_name": "Python 3.8.10 ('env': venv)",
   "language": "python",
   "name": "python3"
  },
  "language_info": {
   "codemirror_mode": {
    "name": "ipython",
    "version": 3
   },
   "file_extension": ".py",
   "mimetype": "text/x-python",
   "name": "python",
   "nbconvert_exporter": "python",
   "pygments_lexer": "ipython3",
   "version": "3.8.10"
  },
  "orig_nbformat": 4,
  "vscode": {
   "interpreter": {
    "hash": "bafc338abc57834bacf3c306014ce0c45f0aeaf201b721c6f2bfe17ccf7009fb"
   }
  }
 },
 "nbformat": 4,
 "nbformat_minor": 2
}
