{
 "cells": [
  {
   "cell_type": "markdown",
   "metadata": {},
   "source": [
    "### LSTM(Long short-term memory)\n",
    "\n",
    "SimpleRNN存在一个问题，只具备短期记忆，而且其内部结构单一，不具备变化。LSTM把单一结构增加到4层，且具备了更多的变化性。\n",
    "\n",
    "下图中x可以理解为相乘操作，经过sigma函数之后，输出范围是0~1，然后经过x操作即可控制往下传递的信息量\n",
    "\n",
    "![lstm-four-layers](../images/lstm-four-layers.png)\n",
    "\n",
    "核心是，增加了cell状态的参数，用来控制传入下一层的信息。\n",
    "\n",
    "![lstm_cell_state](../images/lstm_cell_state.png)\n",
    "\n",
    "遗忘门，通过sigma函数控制遗忘多少\n",
    "\n",
    "![lstm_forget_gate](../images/lstm_forget_gate.png)\n",
    "\n",
    "输入门，通过sigma和tanh的x操作，决定输入的数据保留多少，融入到之前的cell state中。+操作是concat. \n",
    "\n",
    "![lstm_input_gate](../images/lstm_input_gate.png)\n",
    "\n",
    "将cell state与input concat, 形成新的cell state\n",
    "\n",
    "![lstm_cell_state_concat_input](../images/lstm_cell_state_concat_input.png)\n",
    "\n",
    "最后是output, 生成新的ht\n",
    "\n",
    "![lstm_output](../images/lstm_output.png)\n",
    "\n"
   ]
  },
  {
   "cell_type": "code",
   "execution_count": null,
   "metadata": {},
   "outputs": [],
   "source": []
  }
 ],
 "metadata": {
  "kernelspec": {
   "display_name": "env",
   "language": "python",
   "name": "python3"
  },
  "language_info": {
   "name": "python",
   "version": "3.8.10 (tags/v3.8.10:3d8993a, May  3 2021, 11:48:03) [MSC v.1928 64 bit (AMD64)]"
  },
  "orig_nbformat": 4,
  "vscode": {
   "interpreter": {
    "hash": "481359032f648d68f17d683857a61a0d12c4da8b1e223e5709c937118c81a80c"
   }
  }
 },
 "nbformat": 4,
 "nbformat_minor": 2
}
