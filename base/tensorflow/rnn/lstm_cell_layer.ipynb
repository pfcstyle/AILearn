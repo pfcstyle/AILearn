{
 "cells": [
  {
   "cell_type": "code",
   "execution_count": 2,
   "metadata": {},
   "outputs": [],
   "source": [
    "import  os\n",
    "import  tensorflow as tf\n",
    "import  numpy as np\n",
    "from    tensorflow import keras\n",
    "from    keras import layers\n",
    "\n",
    "tf.random.set_seed(22)\n",
    "np.random.seed(22)\n",
    "os.environ['TF_CPP_MIN_LOG_LEVEL'] = '2'\n",
    "assert tf.__version__.startswith('2.')"
   ]
  },
  {
   "cell_type": "code",
   "execution_count": 3,
   "metadata": {},
   "outputs": [
    {
     "name": "stdout",
     "output_type": "stream",
     "text": [
      "Downloading data from https://storage.googleapis.com/tensorflow/tf-keras-datasets/imdb.npz\n",
      "17464789/17464789 [==============================] - 4s 0us/step\n",
      "x_train shape: (25000, 80) tf.Tensor(1, shape=(), dtype=int64) tf.Tensor(0, shape=(), dtype=int64)\n",
      "x_test shape: (25000, 80)\n"
     ]
    }
   ],
   "source": [
    "batchsz = 128\n",
    "\n",
    "# the most frequest words\n",
    "total_words = 10000\n",
    "max_review_len = 80\n",
    "embedding_len = 100\n",
    "(x_train, y_train), (x_test, y_test) = keras.datasets.imdb.load_data(num_words=total_words)\n",
    "# x_train:[b, 80]\n",
    "# x_test: [b, 80]\n",
    "x_train = keras.preprocessing.sequence.pad_sequences(x_train, maxlen=max_review_len)\n",
    "x_test = keras.preprocessing.sequence.pad_sequences(x_test, maxlen=max_review_len)\n",
    "\n",
    "db_train = tf.data.Dataset.from_tensor_slices((x_train, y_train))\n",
    "db_train = db_train.shuffle(1000).batch(batchsz, drop_remainder=True)\n",
    "db_test = tf.data.Dataset.from_tensor_slices((x_test, y_test))\n",
    "db_test = db_test.batch(batchsz, drop_remainder=True)\n",
    "print('x_train shape:', x_train.shape, tf.reduce_max(y_train), tf.reduce_min(y_train))\n",
    "print('x_test shape:', x_test.shape)"
   ]
  },
  {
   "cell_type": "code",
   "execution_count": 6,
   "metadata": {},
   "outputs": [],
   "source": [
    "class MyLSTMByCell(keras.Model):\n",
    "\n",
    "    def __init__(self, units):\n",
    "        super(MyLSTMByCell, self).__init__()\n",
    "\n",
    "        # [b, 64]\n",
    "        self.state0 = [tf.zeros([batchsz, units]),tf.zeros([batchsz, units])]\n",
    "        self.state1 = [tf.zeros([batchsz, units]),tf.zeros([batchsz, units])]\n",
    "\n",
    "        # transform text to embedding representation\n",
    "        # [b, 80] => [b, 80, 100]\n",
    "        self.embedding = layers.Embedding(total_words, embedding_len,\n",
    "                                          input_length=max_review_len)\n",
    "\n",
    "        # [b, 80, 100] , h_dim: 64\n",
    "        # RNN: cell1 ,cell2, cell3\n",
    "        # SimpleRNN\n",
    "        # self.rnn_cell0 = layers.SimpleRNNCell(units, dropout=0.5)\n",
    "        # self.rnn_cell1 = layers.SimpleRNNCell(units, dropout=0.5)\n",
    "        self.rnn_cell0 = layers.LSTMCell(units, dropout=0.5)\n",
    "        self.rnn_cell1 = layers.LSTMCell(units, dropout=0.5)\n",
    "\n",
    "\n",
    "        # fc, [b, 80, 100] => [b, 64] => [b, 1]\n",
    "        self.outlayer = layers.Dense(1)\n",
    "\n",
    "    def call(self, inputs, training=None):\n",
    "        \"\"\"\n",
    "        net(x) net(x, training=True) :train mode\n",
    "        net(x, training=False): test\n",
    "        :param inputs: [b, 80]\n",
    "        :param training:\n",
    "        :return:\n",
    "        \"\"\"\n",
    "        # [b, 80]\n",
    "        x = inputs\n",
    "        # embedding: [b, 80] => [b, 80, 100]\n",
    "        x = self.embedding(x)\n",
    "        # rnn cell compute\n",
    "        # [b, 80, 100] => [b, 64]\n",
    "        state0 = self.state0\n",
    "        state1 = self.state1\n",
    "        for word in tf.unstack(x, axis=1): # word: [b, 100]\n",
    "            # h1 = x*wxh+h0*whh\n",
    "            # out0: [b, 64]\n",
    "            out0, state0 = self.rnn_cell0(word, state0, training)\n",
    "            # out1: [b, 64]\n",
    "            out1, state1 = self.rnn_cell1(out0, state1, training)\n",
    "\n",
    "        # out: [b, 64] => [b, 1]\n",
    "        x = self.outlayer(out1)\n",
    "        # p(y is pos|x)\n",
    "        prob = tf.sigmoid(x)\n",
    "\n",
    "        return prob"
   ]
  },
  {
   "cell_type": "code",
   "execution_count": 7,
   "metadata": {},
   "outputs": [],
   "source": [
    "def cell_main():\n",
    "    units = 64\n",
    "    epochs = 4\n",
    "\n",
    "    import time\n",
    "\n",
    "    t0 = time.time()\n",
    "\n",
    "    model = MyLSTMByCell(units)\n",
    "    model.compile(optimizer = keras.optimizers.Adam(0.001),\n",
    "                    loss = tf.losses.BinaryCrossentropy(),\n",
    "                    metrics=['accuracy'])\n",
    "    model.fit(db_train, epochs=epochs, validation_data=db_test)\n",
    "\n",
    "    model.evaluate(db_test)\n",
    "\n",
    "    t1 = time.time()\n",
    "    # 64.3 seconds, 83.4%\n",
    "    print('total time cost:', t1-t0)"
   ]
  },
  {
   "cell_type": "code",
   "execution_count": 9,
   "metadata": {},
   "outputs": [],
   "source": [
    "class MyLSTMByLayer(keras.Model):\n",
    "\n",
    "    def __init__(self, units):\n",
    "        super(MyLSTMByLayer, self).__init__()\n",
    "\n",
    "\n",
    "        # transform text to embedding representation\n",
    "        # [b, 80] => [b, 80, 100]\n",
    "        self.embedding = layers.Embedding(total_words, embedding_len,\n",
    "                                          input_length=max_review_len)\n",
    "\n",
    "        # [b, 80, 100] , h_dim: 64\n",
    "        self.rnn = keras.Sequential([\n",
    "            # layers.SimpleRNN(units, dropout=0.5, return_sequences=True, unroll=True),\n",
    "            # layers.SimpleRNN(units, dropout=0.5, unroll=True)\n",
    "\n",
    "            layers.LSTM(units, dropout=0.5, return_sequences=True, unroll=True),\n",
    "            layers.LSTM(units, dropout=0.5, unroll=True)\n",
    "        ])\n",
    "\n",
    "\n",
    "        # fc, [b, 80, 100] => [b, 64] => [b, 1]\n",
    "        self.outlayer = layers.Dense(1)\n",
    "\n",
    "    def call(self, inputs, training=None):\n",
    "        \"\"\"\n",
    "        net(x) net(x, training=True) :train mode\n",
    "        net(x, training=False): test\n",
    "        :param inputs: [b, 80]\n",
    "        :param training:\n",
    "        :return:\n",
    "        \"\"\"\n",
    "        # [b, 80]\n",
    "        x = inputs\n",
    "        # embedding: [b, 80] => [b, 80, 100]\n",
    "        x = self.embedding(x)\n",
    "        # rnn cell compute\n",
    "        # x: [b, 80, 100] => [b, 64]\n",
    "        x = self.rnn(x)\n",
    "\n",
    "        # out: [b, 64] => [b, 1]\n",
    "        x = self.outlayer(x)\n",
    "        # p(y is pos|x)\n",
    "        prob = tf.sigmoid(x)\n",
    "\n",
    "        return prob\n",
    "\n",
    "def layer_main():\n",
    "    units = 64\n",
    "    epochs = 4\n",
    "\n",
    "    import time\n",
    "\n",
    "    t0 = time.time()\n",
    "\n",
    "    model = MyLSTMByLayer(units)\n",
    "    model.compile(optimizer = keras.optimizers.Adam(0.001),\n",
    "                  loss = tf.losses.BinaryCrossentropy(),\n",
    "                  metrics=['accuracy'])\n",
    "    model.fit(db_train, epochs=epochs, validation_data=db_test)\n",
    "\n",
    "    model.evaluate(db_test)\n",
    "\n",
    "\n",
    "    t1 = time.time()\n",
    "    # 69.3 secnods, 83%\n",
    "    print('total time cost:', t1-t0)"
   ]
  },
  {
   "cell_type": "code",
   "execution_count": 8,
   "metadata": {},
   "outputs": [
    {
     "name": "stdout",
     "output_type": "stream",
     "text": [
      "Epoch 1/4\n",
      "195/195 [==============================] - 70s 264ms/step - loss: 0.4851 - accuracy: 0.7554 - val_loss: 0.3712 - val_accuracy: 0.8383\n",
      "Epoch 2/4\n",
      "195/195 [==============================] - 47s 242ms/step - loss: 0.3177 - accuracy: 0.8673 - val_loss: 0.3605 - val_accuracy: 0.8409\n",
      "Epoch 3/4\n",
      "195/195 [==============================] - 46s 236ms/step - loss: 0.2617 - accuracy: 0.8946 - val_loss: 0.3800 - val_accuracy: 0.8366\n",
      "Epoch 4/4\n",
      "195/195 [==============================] - 47s 241ms/step - loss: 0.2203 - accuracy: 0.9154 - val_loss: 0.4281 - val_accuracy: 0.8292\n",
      "195/195 [==============================] - 14s 71ms/step - loss: 0.4281 - accuracy: 0.8292\n",
      "total time cost: 224.27036237716675\n"
     ]
    }
   ],
   "source": [
    "# cell_main()"
   ]
  },
  {
   "cell_type": "code",
   "execution_count": 10,
   "metadata": {},
   "outputs": [
    {
     "name": "stdout",
     "output_type": "stream",
     "text": [
      "WARNING:tensorflow:Layer lstm will not use cuDNN kernels since it doesn't meet the criteria. It will use a generic GPU kernel as fallback when running on GPU.\n",
      "WARNING:tensorflow:Layer lstm_1 will not use cuDNN kernels since it doesn't meet the criteria. It will use a generic GPU kernel as fallback when running on GPU.\n",
      "Epoch 1/4\n",
      "195/195 [==============================] - 71s 265ms/step - loss: 0.4829 - accuracy: 0.7533 - val_loss: 0.3666 - val_accuracy: 0.8356\n",
      "Epoch 2/4\n",
      "195/195 [==============================] - 46s 236ms/step - loss: 0.3165 - accuracy: 0.8690 - val_loss: 0.3621 - val_accuracy: 0.8398\n",
      "Epoch 3/4\n",
      "195/195 [==============================] - 44s 228ms/step - loss: 0.2597 - accuracy: 0.8966 - val_loss: 0.3754 - val_accuracy: 0.8380\n",
      "Epoch 4/4\n",
      "195/195 [==============================] - 44s 227ms/step - loss: 0.2171 - accuracy: 0.9160 - val_loss: 0.4546 - val_accuracy: 0.8258\n",
      "195/195 [==============================] - 14s 71ms/step - loss: 0.4546 - accuracy: 0.8258\n",
      "total time cost: 219.9602165222168\n"
     ]
    }
   ],
   "source": [
    "layer_main()"
   ]
  }
 ],
 "metadata": {
  "kernelspec": {
   "display_name": "Python 3.8.10 ('env': venv)",
   "language": "python",
   "name": "python3"
  },
  "language_info": {
   "codemirror_mode": {
    "name": "ipython",
    "version": 3
   },
   "file_extension": ".py",
   "mimetype": "text/x-python",
   "name": "python",
   "nbconvert_exporter": "python",
   "pygments_lexer": "ipython3",
   "version": "3.8.10 (tags/v3.8.10:3d8993a, May  3 2021, 11:48:03) [MSC v.1928 64 bit (AMD64)]"
  },
  "orig_nbformat": 4,
  "vscode": {
   "interpreter": {
    "hash": "481359032f648d68f17d683857a61a0d12c4da8b1e223e5709c937118c81a80c"
   }
  }
 },
 "nbformat": 4,
 "nbformat_minor": 2
}
