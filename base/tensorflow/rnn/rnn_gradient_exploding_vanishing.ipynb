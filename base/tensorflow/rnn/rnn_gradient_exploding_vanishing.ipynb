{
 "cells": [
  {
   "cell_type": "markdown",
   "metadata": {},
   "source": [
    "### Gradient Exploding\n",
    "\n",
    "RNN由于状态会不停的迭代，计算梯度时，会不停的次方叠加，很容易出现梯度爆炸。\n",
    "\n",
    "![rnn_gradient_exploding](../images/rnn_gradient_exploding.png)\n",
    "\n",
    "\n",
    "### 解决\n",
    "\n",
    "思路很简单，梯度爆炸就是更新值太大，我们可以认为设定一个阈值，当更新值超过阈值时，就使用阈值即可。\n",
    "\n",
    "![rnn_gradient_exploding_resolve](../images/rnn_gradient_exploding_resolve.png)\n",
    "\n",
    "![rnn_gradient_clipping_code](../images/rnn_gradient_clipping_code.png)\n"
   ]
  },
  {
   "cell_type": "markdown",
   "metadata": {},
   "source": [
    "### Gradient Vanishing\n",
    "\n",
    "梯度逐步消失\n",
    "\n",
    "![rnn_gradient_vanishing](../images/rnn_gradient_vanishing.png)\n",
    "\n",
    "解决参考：[lstm](./rnn_gradient_exploding_vanishing.ipynb)\n"
   ]
  },
  {
   "cell_type": "code",
   "execution_count": null,
   "metadata": {},
   "outputs": [],
   "source": []
  }
 ],
 "metadata": {
  "kernelspec": {
   "display_name": "Python 3.9.6 ('new_env': venv)",
   "language": "python",
   "name": "python3"
  },
  "language_info": {
   "name": "python",
   "version": "3.9.6"
  },
  "orig_nbformat": 4,
  "vscode": {
   "interpreter": {
    "hash": "0d58ff1fa528449bec86ac3b87e5b9edec9a0f46f3f9c706338d5512923abfa3"
   }
  }
 },
 "nbformat": 4,
 "nbformat_minor": 2
}
