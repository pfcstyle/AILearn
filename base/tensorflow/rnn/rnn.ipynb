{
 "cells": [
  {
   "attachments": {},
   "cell_type": "markdown",
   "metadata": {},
   "source": [
    "### RNN\n",
    "\n",
    "优点： 简单\n",
    "\n",
    "缺点：多层之间串联，计算慢；单向只有上文，双向才有上下文，且遵循最临近最重要的默认规则，不符合语言特性，没有权重项；只能做短序列任务，因为会丢失距离较远的信息；梯度难以收敛；\n",
    "\n",
    "* Weight sharing: 每一个数据，都经过相同的层来训练，也就是w, b是共享的，当然RNN也是可以多层，ht是下一层的输入。\n",
    "  \n",
    "  ![rnn_wight_sharing](../images/rnn_wight_sharing.png)\n",
    "* Consistent memory：每个数据经过层训练后的输出，同时作为下一个数据的输入，一起训练，相当于记录之前的状态.h0一般初始化为[0, 0, 0...]\n",
    "  \n",
    "  ![rnn_consistent_memory](../images/rnn_consistent_memory.png)\n",
    "\n",
    "  ![rnn_unit](../images/rnn_unit.png)\n",
    "\n",
    "  ![rnn_unit_formulation](../images/rnn_unit_formulation.png)\n",
    "  \n",
    "### Gradient\n",
    "\n",
    "![rnn_gradient](../images/rnn_gradient.png)\n"
   ]
  },
  {
   "cell_type": "markdown",
   "metadata": {},
   "source": [
    "### Recap\n",
    "\n",
    "![rnn_recap](../images/rnn_recap.png)"
   ]
  },
  {
   "cell_type": "code",
   "execution_count": 2,
   "metadata": {},
   "outputs": [],
   "source": [
    "import tensorflow as tf\n",
    "from keras import layers\n",
    "from tensorflow import keras"
   ]
  },
  {
   "cell_type": "code",
   "execution_count": 3,
   "metadata": {},
   "outputs": [
    {
     "data": {
      "text/plain": [
       "[<tf.Variable 'kernel:0' shape=(4, 3) dtype=float32, numpy=\n",
       " array([[ 0.72934437, -0.08529466,  0.08860195],\n",
       "        [ 0.06994289,  0.30748487, -0.8542601 ],\n",
       "        [ 0.6114085 , -0.7415279 , -0.6091521 ],\n",
       "        [-0.65040267,  0.34583807, -0.32419276]], dtype=float32)>,\n",
       " <tf.Variable 'recurrent_kernel:0' shape=(3, 3) dtype=float32, numpy=\n",
       " array([[ 0.9317492 , -0.02076747, -0.36250818],\n",
       "        [ 0.11296385,  0.96539825,  0.23504323],\n",
       "        [-0.34508353,  0.25995165, -0.901855  ]], dtype=float32)>,\n",
       " <tf.Variable 'bias:0' shape=(3,) dtype=float32, numpy=array([0., 0., 0.], dtype=float32)>]"
      ]
     },
     "execution_count": 3,
     "metadata": {},
     "output_type": "execute_result"
    }
   ],
   "source": [
    "# SimpleRNNCell就是最简单的上文展示的RNN Unit\n",
    "# 3表示有3个数据单元（时间单元，时间戳）\n",
    "cell = layers.SimpleRNNCell(3)\n",
    "cell.build(input_shape=(None, 4))\n",
    "\n",
    "cell.trainable_variables"
   ]
  },
  {
   "cell_type": "code",
   "execution_count": 5,
   "metadata": {},
   "outputs": [
    {
     "name": "stdout",
     "output_type": "stream",
     "text": [
      "xt0 shape: (4, 100)\n"
     ]
    },
    {
     "data": {
      "text/plain": [
       "(1525508470528, 1525508470528)"
      ]
     },
     "execution_count": 5,
     "metadata": {},
     "output_type": "execute_result"
    }
   ],
   "source": [
    "x = tf.random.normal([4, 80, 100])\n",
    "xt0 = x[:, 0, :]\n",
    "print(\"xt0 shape:\", xt0.shape)\n",
    "\n",
    "cell = tf.keras.layers.SimpleRNNCell(64)\n",
    "\n",
    "out, xt1 = cell(xt0, [tf.zeros([4, 64])])\n",
    "\n",
    "out.shape, xt1[0].shape\n",
    "# out和xt1[0](h1)是同一个东西，id相同\n",
    "# 实际上这里xt1只有1个元素，tensorflow里state统一使用数组表示\n",
    "id(out), id(xt1[0])"
   ]
  },
  {
   "cell_type": "markdown",
   "metadata": {},
   "source": [
    "### 多层Cell\n",
    "\n",
    "![multi_rnn_cell](../images/multi_rnn_cell.png)"
   ]
  },
  {
   "cell_type": "code",
   "execution_count": 6,
   "metadata": {},
   "outputs": [],
   "source": [
    "x = tf.random.normal([4, 80, 100])\n",
    "xt0 = x[:, 0, :]\n",
    "cell = tf.keras.layers.SimpleRNNCell(64)\n",
    "cell2 = tf.keras.layers.SimpleRNNCell(64)\n",
    "\n",
    "state0 = [tf.zeros([4, 64])]\n",
    "state1 = [tf.zeros([4, 64])]\n",
    "\n",
    "out0, state0 = cell(xt0, state0)\n",
    "out2, state2 = cell2(out, state0)"
   ]
  },
  {
   "cell_type": "code",
   "execution_count": 7,
   "metadata": {},
   "outputs": [
    {
     "data": {
      "text/plain": [
       "TensorShape([4, 64])"
      ]
     },
     "execution_count": 7,
     "metadata": {},
     "output_type": "execute_result"
    }
   ],
   "source": [
    "rnn = keras.Sequential([\n",
    "    # SimpleRNN只有一个cell, 与SimpleRNNCell的区别是它不需要人为的拆解数据，会自动拆解\n",
    "    # return_sequences是因为上层输出要作为下层输入\n",
    "    layers.SimpleRNN(units=64, dropout=0.5, return_sequences=True, unroll=True),\n",
    "    layers.SimpleRNN(units=64, dropout=0.5, unroll=True)\n",
    "])\n",
    "x = tf.random.normal([4, 80, 100])\n",
    "x = rnn(x)\n",
    "x.shape"
   ]
  }
 ],
 "metadata": {
  "kernelspec": {
   "display_name": "Python 3.9.6 ('new_env': venv)",
   "language": "python",
   "name": "python3"
  },
  "language_info": {
   "codemirror_mode": {
    "name": "ipython",
    "version": 3
   },
   "file_extension": ".py",
   "mimetype": "text/x-python",
   "name": "python",
   "nbconvert_exporter": "python",
   "pygments_lexer": "ipython3",
   "version": "3.9.6"
  },
  "orig_nbformat": 4,
  "vscode": {
   "interpreter": {
    "hash": "0d58ff1fa528449bec86ac3b87e5b9edec9a0f46f3f9c706338d5512923abfa3"
   }
  }
 },
 "nbformat": 4,
 "nbformat_minor": 2
}
