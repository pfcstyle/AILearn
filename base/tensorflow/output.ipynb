{
 "cells": [
  {
   "cell_type": "markdown",
   "metadata": {},
   "source": [
    "### $ y \\in s $\n",
    "一般不需要特殊处理\n",
    "\n",
    "### $ y \\in [0, 1] $\n",
    "常用于二分类（y < 0.5 or y > 0.5）和图片生成（颜色通道值->[0, 1]）\n",
    "\n",
    "通常使用`sigmoid`函数进行值域转换，当然，同时也有激活作用。`tf.sigmoid`\n",
    "\n",
    "还可以使用`softmax`函数，它可以保证转换之后的值域之和为1，在onehot-encoding时常用。`tf.nn.softmax`"
   ]
  },
  {
   "cell_type": "code",
   "execution_count": 1,
   "metadata": {},
   "outputs": [],
   "source": [
    "import tensorflow as tf\n",
    "from tensorflow import keras"
   ]
  },
  {
   "cell_type": "code",
   "execution_count": 3,
   "metadata": {},
   "outputs": [
    {
     "data": {
      "text/plain": [
       "<tf.Tensor: shape=(10,), dtype=float32, numpy=\n",
       "array([4.5246225e-06, 1.7164924e-05, 6.5118009e-05, 2.4703599e-04,\n",
       "       9.3717274e-04, 3.5553225e-03, 1.3487709e-02, 5.1167920e-02,\n",
       "       1.9411403e-01, 7.3640394e-01], dtype=float32)>"
      ]
     },
     "execution_count": 3,
     "metadata": {},
     "output_type": "execute_result"
    }
   ],
   "source": [
    "a = tf.linspace(-6., 6, 10)\n",
    "tf.sigmoid(a)\n",
    "tf.nn.softmax(a)"
   ]
  },
  {
   "cell_type": "markdown",
   "metadata": {},
   "source": [
    "### $ y \\in [-1, 1] $\n",
    "\n",
    "常使用`tanh`进行转换，常用于lstm。`tf.tanh(a)`"
   ]
  },
  {
   "cell_type": "code",
   "execution_count": null,
   "metadata": {},
   "outputs": [],
   "source": [
    "a = tf.linspace(-2., 2, 5)\n",
    "tf.tanh(a)"
   ]
  }
 ],
 "metadata": {
  "kernelspec": {
   "display_name": "Python 3.9.6 ('new_env': venv)",
   "language": "python",
   "name": "python3"
  },
  "language_info": {
   "codemirror_mode": {
    "name": "ipython",
    "version": 3
   },
   "file_extension": ".py",
   "mimetype": "text/x-python",
   "name": "python",
   "nbconvert_exporter": "python",
   "pygments_lexer": "ipython3",
   "version": "3.9.6"
  },
  "orig_nbformat": 4,
  "vscode": {
   "interpreter": {
    "hash": "0d58ff1fa528449bec86ac3b87e5b9edec9a0f46f3f9c706338d5512923abfa3"
   }
  }
 },
 "nbformat": 4,
 "nbformat_minor": 2
}
