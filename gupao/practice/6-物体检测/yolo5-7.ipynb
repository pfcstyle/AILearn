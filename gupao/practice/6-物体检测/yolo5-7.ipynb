{
 "cells": [
  {
   "cell_type": "markdown",
   "metadata": {},
   "source": [
    "# YOLO 5\n",
    "\n",
    "网络等和YOLO4基本相同，只是实现层面不同。\n",
    "\n",
    "https://github.com/ultralytics/yolov5"
   ]
  },
  {
   "cell_type": "markdown",
   "metadata": {},
   "source": [
    "# YOLO 6\n",
    "几乎和v7一起出来，而且原作者不认。"
   ]
  },
  {
   "cell_type": "markdown",
   "metadata": {},
   "source": [
    "# YOLO 7\n",
    "\n",
    "\n"
   ]
  },
  {
   "cell_type": "markdown",
   "metadata": {},
   "source": [
    "## RepVGG (推理加速)\n",
    "\n",
    "VGG核心思想是多个较小的卷积核（通常是3x3大小，英伟达优化）和较深的网络结构来提高模型的性能和学习能力。但是，当深度过高时，效果反而会下降，因此，被resnet干掉了。\n",
    "\n",
    "Resnet也有问题，由于使用残差，意味着多分支，内存占用大，速度慢。\n",
    "\n"
   ]
  },
  {
   "cell_type": "code",
   "execution_count": null,
   "metadata": {},
   "outputs": [],
   "source": []
  }
 ],
 "metadata": {
  "language_info": {
   "name": "python"
  }
 },
 "nbformat": 4,
 "nbformat_minor": 2
}
