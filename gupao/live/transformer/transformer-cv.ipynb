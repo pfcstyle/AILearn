{
 "cells": [
  {
   "cell_type": "markdown",
   "metadata": {},
   "source": [
    "# Vision Transformer(ViT)\n",
    "\n",
    "![ViT](./images/vit.png)\n"
   ]
  },
  {
   "cell_type": "markdown",
   "metadata": {},
   "source": [
    "将一张图分割，每一块相当于其他块的上下文信息，每一块叫做patch。如何将一个patch转换为向量？\n",
    "1. 这里仍然需要应用到卷积，通过卷积提取每一个patch的特征向量，可以是多个卷积核。\n",
    "2. 除此之外, 还需要加入一个分类头Token与所有的patchs拼接到一起。这个分类头从一个随机初始化值开始，它是用来分别于每一个patch的特征向量进行计算得到与它们之间的关系，从而来表达一张图片的全局信息。\n",
    "3. 得到最终拼接向量后，为了保持每一个patch的位置信息，需要加入位置编码。这里使用的是固定的位置编码，也可以使用可学习的位置编码。\n",
    "\n",
    "最够根据CLS作为最终特征，连接MLP来进行分类"
   ]
  },
  {
   "cell_type": "code",
   "execution_count": null,
   "metadata": {},
   "outputs": [],
   "source": [
    "\n",
    "\n"
   ]
  }
 ],
 "metadata": {
  "language_info": {
   "name": "python"
  }
 },
 "nbformat": 4,
 "nbformat_minor": 2
}
